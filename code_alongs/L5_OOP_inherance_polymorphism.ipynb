{
 "cells": [
  {
   "cell_type": "markdown",
   "metadata": {},
   "source": [
    "### Code Alongs - OOP Polymorphism and inherance"
   ]
  },
  {
   "cell_type": "code",
   "execution_count": 1,
   "metadata": {},
   "outputs": [
    {
     "data": {
      "text/plain": [
       "OldCoinStash(owner='Ragnar')"
      ]
     },
     "execution_count": 1,
     "metadata": {},
     "output_type": "execute_result"
    }
   ],
   "source": [
    "from helper_modules.oldcoins import OldCoinsStash\n",
    "OldCoinsStash(\"Ragnar\")"
   ]
  },
  {
   "cell_type": "code",
   "execution_count": 5,
   "metadata": {},
   "outputs": [
    {
     "name": "stdout",
     "output_type": "stream",
     "text": [
      "Person Arthur says hi\n",
      "Age must be a number, not a <class 'str'>\n"
     ]
    }
   ],
   "source": [
    "from numbers import Number\n",
    "\n",
    "class Person:\n",
    "    \"\"\"Base class with generic methods and attributes sharedby all subclasses\"\"\"\n",
    "    def __init__(self, name: str, age: int) -> None:\n",
    "        self.age = age\n",
    "        self.name = name\n",
    "    \n",
    "    @property\n",
    "    def age(self) -> int:\n",
    "        return self._age\n",
    "\n",
    "    @age.setter\n",
    "    def age(self, value: Number):\n",
    "        if not isinstance(value, Number):\n",
    "            raise TypeError(f\"Age must be a number, not a {type(value)}\")\n",
    "\n",
    "        # Validate that age is valid age\n",
    "        # Validation code goes here\n",
    "\n",
    "        self._age = value\n",
    "\n",
    "    # property for name with validation code in setter \n",
    "\n",
    "    def say_hi(self) -> None:\n",
    "        print(f\"Person {self.name} says hi\")\n",
    "\n",
    "    \n",
    "p1 = Person(\"Arthur\", 29)\n",
    "p1.say_hi()\n",
    "\n",
    "try:\n",
    "    p2 = Person(\"Gandalf\", \"eleven-thousand\")\n",
    "except TypeError as err:\n",
    "    print(err)\n",
    "\n"
   ]
  },
  {
   "cell_type": "code",
   "execution_count": 13,
   "metadata": {},
   "outputs": [
    {
     "name": "stdout",
     "output_type": "stream",
     "text": [
      "Student Aragorn speaks Elfish\n",
      "Age must be a number, not a <class 'str'>\n"
     ]
    }
   ],
   "source": [
    "# Student inherents from Person\n",
    "class Student(Person):\n",
    "    \"\"\"A student is a person that knows a language\"\"\"\n",
    "    def __init__(self, name: str, age: int, language: str) -> None:\n",
    "        super().__init__(name, age) #uses parent class dunder init \n",
    "\n",
    "        self.language = language\n",
    "\n",
    "    #overrides say_hi()\n",
    "    def say_hi(self) -> None:\n",
    "        print(f\"Student {self.name} speaks {self.language}\")\n",
    "\n",
    "s1 = Student (\"Aragorn\", 87, \"Elfish\")\n",
    "s1.say_hi()\n",
    "\n",
    "# validation code for age is taken from parents age property\n",
    "try:\n",
    "    s2 = Student (\"Gmili\", \"seventy-two\", \"Dwarf\")\n",
    "except TypeError as err:\n",
    "    print(err)"
   ]
  },
  {
   "cell_type": "code",
   "execution_count": 15,
   "metadata": {},
   "outputs": [
    {
     "name": "stdout",
     "output_type": "stream",
     "text": [
      "Person Dan Martinsson says hi\n"
     ]
    }
   ],
   "source": [
    "class Viking(Person):\n",
    "    \"\"\"Viking is a Person, Viking has an OldCoinStash\"\"\"\n",
    "    def __init__(self, name: str, age: int) -> None:\n",
    "        super().__init__(name, age)\n",
    "\n",
    "        # composition - \"has a\" relation while inheritance \"is a\" relation\n",
    "        self.stash = OldCoinsStash(name)\n",
    "\n",
    "v1 = Viking(\"Dan Martinsson\", 70)\n",
    "v1.say_hi()"
   ]
  },
  {
   "cell_type": "code",
   "execution_count": 16,
   "metadata": {},
   "outputs": [
    {
     "name": "stdout",
     "output_type": "stream",
     "text": [
      "Person Arthur says hi\n",
      "Student Aragorn speaks Elfish\n",
      "Person Dan Martinsson says hi\n"
     ]
    }
   ],
   "source": [
    "people = (p1, s1, v1)\n",
    "# polymorphism\n",
    "for person in people:\n",
    "    # does different things for diferent types\n",
    "    person.say_hi()\n"
   ]
  },
  {
   "cell_type": "code",
   "execution_count": 20,
   "metadata": {},
   "outputs": [
    {
     "name": "stdout",
     "output_type": "stream",
     "text": [
      "v1.numbers = (1, 2, 3)\n",
      "v2.numbers = (-4, 2, 1)\n",
      "3 3\n",
      "v1+v2 = Vector(-3, 4, 4)\n",
      "v1*2 = Vector(2, 4, 6)\n",
      "2*v1 = Vector(2, 4, 6)\n"
     ]
    },
    {
     "data": {
      "text/plain": [
       "2"
      ]
     },
     "execution_count": 20,
     "metadata": {},
     "output_type": "execute_result"
    }
   ],
   "source": [
    "class Vector:\n",
    "    \"\"\"A class to represent a Euclidean vector with magnitude and direction\"\"\"\n",
    "    \n",
    "    # *numbers is a variadic parameter\n",
    "    def __init__(self, *numbers: float) -> None:\n",
    "        for number in numbers:\n",
    "            if not isinstance(number, Number):\n",
    "                raise TypeError(f\"{number} is not a valid number in a vector\")\n",
    "        \n",
    "        if len(numbers) <= 0:\n",
    "            raise ValueError(\"Vector can't be empty\")\n",
    "        \n",
    "        self._numbers = numbers \n",
    "\n",
    "    @property    \n",
    "    def numbers(self) -> tuple:\n",
    "        return self._numbers\n",
    "    \n",
    "    def __add__(self, other: Vector) -> Vector:\n",
    "        if self.validate_vectors(other):\n",
    "            numbers = (a+b for a,b in zip(self.numbers, other.numbers))\n",
    "            return Vector(*numbers)\n",
    "\n",
    "    def __mul__(self, value: Number) -> Vector:\n",
    "        if not isinstance(value, Number):\n",
    "            raise TypeError(f\"Value must be a number not {type(value)}\")\n",
    "        \n",
    "        numbers = (value*a for a in self.numbers)\n",
    "        return Vector(*numbers)\n",
    "\n",
    "    # to make multiplication commutative i.e. a*b = b*a\n",
    "    def __rmul__(self, value: Number) -> Vector:\n",
    "        return self*value\n",
    "\n",
    "    def validate_vectors(self, other: Vector) -> bool:\n",
    "        \"\"\"Validates if two vectors have same number of elements\"\"\"\n",
    "        if not isinstance(other, Vector) or len(other) != len(self):\n",
    "            raise TypeError(\"Both must be Vector and have same number of elements\")\n",
    "        return len(self) == len(other)\n",
    "\n",
    "    # operator overloaded len()\n",
    "    def __len__(self) -> int:\n",
    "        return len(self.numbers)\n",
    "\n",
    "    def __repr__(self) -> str:\n",
    "        return f\"Vector{self.numbers}\"\n",
    "    \n",
    "    def __getitem__(self, item: int) -> float:\n",
    "        # print(\"__getitem__ called \")\n",
    "        return self.numbers[item]\n",
    "\n",
    "v1 = Vector(1,2,3)\n",
    "print(f\"{v1.numbers = }\")\n",
    "\n",
    "v2 = Vector(-4,2,1)\n",
    "print(f\"{v2.numbers = }\")\n",
    "print(len(v2), len(v1))\n",
    "print(f\"{v1+v2 = }\")\n",
    "\n",
    "print(f\"{v1*2 = }\")\n",
    "print(f\"{2*v1 = }\")\n",
    "\n",
    "v1[1]"
   ]
  }
 ],
 "metadata": {
  "kernelspec": {
   "display_name": "Python 3",
   "language": "python",
   "name": "python3"
  },
  "language_info": {
   "codemirror_mode": {
    "name": "ipython",
    "version": 3
   },
   "file_extension": ".py",
   "mimetype": "text/x-python",
   "name": "python",
   "nbconvert_exporter": "python",
   "pygments_lexer": "ipython3",
   "version": "3.11.8"
  }
 },
 "nbformat": 4,
 "nbformat_minor": 2
}
