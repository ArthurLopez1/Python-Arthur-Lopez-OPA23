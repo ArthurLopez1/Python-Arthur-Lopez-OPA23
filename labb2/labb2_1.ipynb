{
 "cells": [
  {
   "cell_type": "markdown",
   "metadata": {},
   "source": [
    "# Uppgift 1 - uppvärmning betyg och prov\n",
    "### I uppgifterna nedan ska du använda dig av datasetet betyg_o_prov_riksnivå.xlsx. Använd Plotly för att rita diagrammen nedan för de uppgifter som kräver diagram. Använd Pandas för att svara på frågor om datasetet.\n",
    "\n",
    "- a) Rita ett linjediagram för andel elever som saknar godkänt betyg i ett eller fler ämnen för läsår 18-23. Ta med totalt,\n",
    "flickor och pojkar i samma graf"
   ]
  },
  {
   "cell_type": "code",
   "execution_count": 731,
   "metadata": {},
   "outputs": [
    {
     "data": {
      "text/html": [
       "<div>\n",
       "<style scoped>\n",
       "    .dataframe tbody tr th:only-of-type {\n",
       "        vertical-align: middle;\n",
       "    }\n",
       "\n",
       "    .dataframe tbody tr th {\n",
       "        vertical-align: top;\n",
       "    }\n",
       "\n",
       "    .dataframe thead th {\n",
       "        text-align: right;\n",
       "    }\n",
       "</style>\n",
       "<table border=\"1\" class=\"dataframe\">\n",
       "  <thead>\n",
       "    <tr style=\"text-align: right;\">\n",
       "      <th></th>\n",
       "      <th>Totalt</th>\n",
       "      <th>Flickor</th>\n",
       "      <th>Pojkar</th>\n",
       "    </tr>\n",
       "    <tr>\n",
       "      <th>Unnamed: 0</th>\n",
       "      <th></th>\n",
       "      <th></th>\n",
       "      <th></th>\n",
       "    </tr>\n",
       "  </thead>\n",
       "  <tbody>\n",
       "    <tr>\n",
       "      <th>2018/19</th>\n",
       "      <td>24.5</td>\n",
       "      <td>21.7</td>\n",
       "      <td>27.2</td>\n",
       "    </tr>\n",
       "    <tr>\n",
       "      <th>2019/20</th>\n",
       "      <td>23.9</td>\n",
       "      <td>21.4</td>\n",
       "      <td>26.3</td>\n",
       "    </tr>\n",
       "    <tr>\n",
       "      <th>2020/21</th>\n",
       "      <td>23.9</td>\n",
       "      <td>21.9</td>\n",
       "      <td>25.9</td>\n",
       "    </tr>\n",
       "    <tr>\n",
       "      <th>2021/22</th>\n",
       "      <td>25.9</td>\n",
       "      <td>24.2</td>\n",
       "      <td>27.5</td>\n",
       "    </tr>\n",
       "    <tr>\n",
       "      <th>2022/23</th>\n",
       "      <td>26.8</td>\n",
       "      <td>25.5</td>\n",
       "      <td>28.0</td>\n",
       "    </tr>\n",
       "  </tbody>\n",
       "</table>\n",
       "</div>"
      ],
      "text/plain": [
       "            Totalt  Flickor  Pojkar\n",
       "Unnamed: 0                         \n",
       "2018/19       24.5     21.7    27.2\n",
       "2019/20       23.9     21.4    26.3\n",
       "2020/21       23.9     21.9    25.9\n",
       "2021/22       25.9     24.2    27.5\n",
       "2022/23       26.8     25.5    28.0"
      ]
     },
     "execution_count": 731,
     "metadata": {},
     "output_type": "execute_result"
    }
   ],
   "source": [
    "import pandas as pd\n",
    "import plotly_express as px\n",
    "\n",
    "custom_colors = ['#b2e061', '#fd7f6f', '#7eb0d5', '#ffee65']\n",
    "custom_colors = ['#404040', '#FF9700', '#0275E0']\n",
    "\n",
    "\n",
    "\n",
    "file_path = \"betyg_o_prov_riksnivå.xlsx\"\n",
    "df = pd.read_excel(file_path, sheet_name=\"Tabell 1B\", skiprows=7).head()\n",
    "\n",
    "columns_to_exclude = ['Totalt', 'Flickor', 'Pojkar', 'Totalt.1', 'Flickor.1', 'Pojkar.1']\n",
    "df = df.drop(columns=columns_to_exclude)\n",
    "\n",
    "df.index = df.iloc[:, 0]\n",
    "df = df.drop(columns=df.columns[0])\n",
    "df = df.rename(columns=lambda x: x.replace('.2', ''))\n",
    "\n",
    "df"
   ]
  },
  {
   "cell_type": "code",
   "execution_count": 732,
   "metadata": {},
   "outputs": [
    {
     "data": {
      "application/vnd.plotly.v1+json": {
       "config": {
        "plotlyServerURL": "https://plot.ly"
       },
       "data": [
        {
         "hovertemplate": "Kön=Totalt<br>Unnamed: 0=%{x}<br>Andel elever (%)=%{y}<extra></extra>",
         "legendgroup": "Totalt",
         "line": {
          "color": "#404040",
          "dash": "dash",
          "width": 2
         },
         "marker": {
          "size": 10,
          "symbol": "circle"
         },
         "mode": "lines+markers",
         "name": "Totalt",
         "orientation": "v",
         "showlegend": true,
         "textfont": {
          "color": "black",
          "size": 12
         },
         "textposition": "top center",
         "texttemplate": "%{y:.1f}",
         "type": "scatter",
         "x": [
          "2018/19",
          "2019/20",
          "2020/21",
          "2021/22",
          "2022/23"
         ],
         "xaxis": "x",
         "y": [
          24.5,
          23.9,
          23.9,
          25.9,
          26.8
         ],
         "yaxis": "y"
        },
        {
         "hovertemplate": "Kön=Flickor<br>Unnamed: 0=%{x}<br>Andel elever (%)=%{y}<extra></extra>",
         "legendgroup": "Flickor",
         "line": {
          "color": "#FF9700",
          "dash": "dash",
          "width": 2
         },
         "marker": {
          "size": 10,
          "symbol": "circle"
         },
         "mode": "lines+markers",
         "name": "Flickor",
         "orientation": "v",
         "showlegend": true,
         "textfont": {
          "color": "black",
          "size": 12
         },
         "textposition": "top center",
         "texttemplate": "%{y:.1f}",
         "type": "scatter",
         "x": [
          "2018/19",
          "2019/20",
          "2020/21",
          "2021/22",
          "2022/23"
         ],
         "xaxis": "x",
         "y": [
          21.7,
          21.4,
          21.9,
          24.2,
          25.5
         ],
         "yaxis": "y"
        },
        {
         "hovertemplate": "Kön=Pojkar<br>Unnamed: 0=%{x}<br>Andel elever (%)=%{y}<extra></extra>",
         "legendgroup": "Pojkar",
         "line": {
          "color": "#0275E0",
          "dash": "dash",
          "width": 2
         },
         "marker": {
          "size": 10,
          "symbol": "circle"
         },
         "mode": "lines+markers",
         "name": "Pojkar",
         "orientation": "v",
         "showlegend": true,
         "textfont": {
          "color": "black",
          "size": 12
         },
         "textposition": "top center",
         "texttemplate": "%{y:.1f}",
         "type": "scatter",
         "x": [
          "2018/19",
          "2019/20",
          "2020/21",
          "2021/22",
          "2022/23"
         ],
         "xaxis": "x",
         "y": [
          27.2,
          26.3,
          25.9,
          27.5,
          28
         ],
         "yaxis": "y"
        }
       ],
       "layout": {
        "font": {
         "family": "Arial",
         "size": 17
        },
        "height": 800,
        "legend": {
         "bordercolor": "gray",
         "borderwidth": 1,
         "orientation": "v",
         "title": {},
         "tracegroupgap": 0,
         "traceorder": "normal",
         "x": 1,
         "xanchor": "right",
         "y": -0.2,
         "yanchor": "top"
        },
        "margin": {
         "b": 120,
         "l": 120,
         "r": 120,
         "t": 120
        },
        "template": {
         "data": {
          "bar": [
           {
            "error_x": {
             "color": "#2a3f5f"
            },
            "error_y": {
             "color": "#2a3f5f"
            },
            "marker": {
             "line": {
              "color": "white",
              "width": 0.5
             },
             "pattern": {
              "fillmode": "overlay",
              "size": 10,
              "solidity": 0.2
             }
            },
            "type": "bar"
           }
          ],
          "barpolar": [
           {
            "marker": {
             "line": {
              "color": "white",
              "width": 0.5
             },
             "pattern": {
              "fillmode": "overlay",
              "size": 10,
              "solidity": 0.2
             }
            },
            "type": "barpolar"
           }
          ],
          "carpet": [
           {
            "aaxis": {
             "endlinecolor": "#2a3f5f",
             "gridcolor": "#C8D4E3",
             "linecolor": "#C8D4E3",
             "minorgridcolor": "#C8D4E3",
             "startlinecolor": "#2a3f5f"
            },
            "baxis": {
             "endlinecolor": "#2a3f5f",
             "gridcolor": "#C8D4E3",
             "linecolor": "#C8D4E3",
             "minorgridcolor": "#C8D4E3",
             "startlinecolor": "#2a3f5f"
            },
            "type": "carpet"
           }
          ],
          "choropleth": [
           {
            "colorbar": {
             "outlinewidth": 0,
             "ticks": ""
            },
            "type": "choropleth"
           }
          ],
          "contour": [
           {
            "colorbar": {
             "outlinewidth": 0,
             "ticks": ""
            },
            "colorscale": [
             [
              0,
              "#0d0887"
             ],
             [
              0.1111111111111111,
              "#46039f"
             ],
             [
              0.2222222222222222,
              "#7201a8"
             ],
             [
              0.3333333333333333,
              "#9c179e"
             ],
             [
              0.4444444444444444,
              "#bd3786"
             ],
             [
              0.5555555555555556,
              "#d8576b"
             ],
             [
              0.6666666666666666,
              "#ed7953"
             ],
             [
              0.7777777777777778,
              "#fb9f3a"
             ],
             [
              0.8888888888888888,
              "#fdca26"
             ],
             [
              1,
              "#f0f921"
             ]
            ],
            "type": "contour"
           }
          ],
          "contourcarpet": [
           {
            "colorbar": {
             "outlinewidth": 0,
             "ticks": ""
            },
            "type": "contourcarpet"
           }
          ],
          "heatmap": [
           {
            "colorbar": {
             "outlinewidth": 0,
             "ticks": ""
            },
            "colorscale": [
             [
              0,
              "#0d0887"
             ],
             [
              0.1111111111111111,
              "#46039f"
             ],
             [
              0.2222222222222222,
              "#7201a8"
             ],
             [
              0.3333333333333333,
              "#9c179e"
             ],
             [
              0.4444444444444444,
              "#bd3786"
             ],
             [
              0.5555555555555556,
              "#d8576b"
             ],
             [
              0.6666666666666666,
              "#ed7953"
             ],
             [
              0.7777777777777778,
              "#fb9f3a"
             ],
             [
              0.8888888888888888,
              "#fdca26"
             ],
             [
              1,
              "#f0f921"
             ]
            ],
            "type": "heatmap"
           }
          ],
          "heatmapgl": [
           {
            "colorbar": {
             "outlinewidth": 0,
             "ticks": ""
            },
            "colorscale": [
             [
              0,
              "#0d0887"
             ],
             [
              0.1111111111111111,
              "#46039f"
             ],
             [
              0.2222222222222222,
              "#7201a8"
             ],
             [
              0.3333333333333333,
              "#9c179e"
             ],
             [
              0.4444444444444444,
              "#bd3786"
             ],
             [
              0.5555555555555556,
              "#d8576b"
             ],
             [
              0.6666666666666666,
              "#ed7953"
             ],
             [
              0.7777777777777778,
              "#fb9f3a"
             ],
             [
              0.8888888888888888,
              "#fdca26"
             ],
             [
              1,
              "#f0f921"
             ]
            ],
            "type": "heatmapgl"
           }
          ],
          "histogram": [
           {
            "marker": {
             "pattern": {
              "fillmode": "overlay",
              "size": 10,
              "solidity": 0.2
             }
            },
            "type": "histogram"
           }
          ],
          "histogram2d": [
           {
            "colorbar": {
             "outlinewidth": 0,
             "ticks": ""
            },
            "colorscale": [
             [
              0,
              "#0d0887"
             ],
             [
              0.1111111111111111,
              "#46039f"
             ],
             [
              0.2222222222222222,
              "#7201a8"
             ],
             [
              0.3333333333333333,
              "#9c179e"
             ],
             [
              0.4444444444444444,
              "#bd3786"
             ],
             [
              0.5555555555555556,
              "#d8576b"
             ],
             [
              0.6666666666666666,
              "#ed7953"
             ],
             [
              0.7777777777777778,
              "#fb9f3a"
             ],
             [
              0.8888888888888888,
              "#fdca26"
             ],
             [
              1,
              "#f0f921"
             ]
            ],
            "type": "histogram2d"
           }
          ],
          "histogram2dcontour": [
           {
            "colorbar": {
             "outlinewidth": 0,
             "ticks": ""
            },
            "colorscale": [
             [
              0,
              "#0d0887"
             ],
             [
              0.1111111111111111,
              "#46039f"
             ],
             [
              0.2222222222222222,
              "#7201a8"
             ],
             [
              0.3333333333333333,
              "#9c179e"
             ],
             [
              0.4444444444444444,
              "#bd3786"
             ],
             [
              0.5555555555555556,
              "#d8576b"
             ],
             [
              0.6666666666666666,
              "#ed7953"
             ],
             [
              0.7777777777777778,
              "#fb9f3a"
             ],
             [
              0.8888888888888888,
              "#fdca26"
             ],
             [
              1,
              "#f0f921"
             ]
            ],
            "type": "histogram2dcontour"
           }
          ],
          "mesh3d": [
           {
            "colorbar": {
             "outlinewidth": 0,
             "ticks": ""
            },
            "type": "mesh3d"
           }
          ],
          "parcoords": [
           {
            "line": {
             "colorbar": {
              "outlinewidth": 0,
              "ticks": ""
             }
            },
            "type": "parcoords"
           }
          ],
          "pie": [
           {
            "automargin": true,
            "type": "pie"
           }
          ],
          "scatter": [
           {
            "fillpattern": {
             "fillmode": "overlay",
             "size": 10,
             "solidity": 0.2
            },
            "type": "scatter"
           }
          ],
          "scatter3d": [
           {
            "line": {
             "colorbar": {
              "outlinewidth": 0,
              "ticks": ""
             }
            },
            "marker": {
             "colorbar": {
              "outlinewidth": 0,
              "ticks": ""
             }
            },
            "type": "scatter3d"
           }
          ],
          "scattercarpet": [
           {
            "marker": {
             "colorbar": {
              "outlinewidth": 0,
              "ticks": ""
             }
            },
            "type": "scattercarpet"
           }
          ],
          "scattergeo": [
           {
            "marker": {
             "colorbar": {
              "outlinewidth": 0,
              "ticks": ""
             }
            },
            "type": "scattergeo"
           }
          ],
          "scattergl": [
           {
            "marker": {
             "colorbar": {
              "outlinewidth": 0,
              "ticks": ""
             }
            },
            "type": "scattergl"
           }
          ],
          "scattermapbox": [
           {
            "marker": {
             "colorbar": {
              "outlinewidth": 0,
              "ticks": ""
             }
            },
            "type": "scattermapbox"
           }
          ],
          "scatterpolar": [
           {
            "marker": {
             "colorbar": {
              "outlinewidth": 0,
              "ticks": ""
             }
            },
            "type": "scatterpolar"
           }
          ],
          "scatterpolargl": [
           {
            "marker": {
             "colorbar": {
              "outlinewidth": 0,
              "ticks": ""
             }
            },
            "type": "scatterpolargl"
           }
          ],
          "scatterternary": [
           {
            "marker": {
             "colorbar": {
              "outlinewidth": 0,
              "ticks": ""
             }
            },
            "type": "scatterternary"
           }
          ],
          "surface": [
           {
            "colorbar": {
             "outlinewidth": 0,
             "ticks": ""
            },
            "colorscale": [
             [
              0,
              "#0d0887"
             ],
             [
              0.1111111111111111,
              "#46039f"
             ],
             [
              0.2222222222222222,
              "#7201a8"
             ],
             [
              0.3333333333333333,
              "#9c179e"
             ],
             [
              0.4444444444444444,
              "#bd3786"
             ],
             [
              0.5555555555555556,
              "#d8576b"
             ],
             [
              0.6666666666666666,
              "#ed7953"
             ],
             [
              0.7777777777777778,
              "#fb9f3a"
             ],
             [
              0.8888888888888888,
              "#fdca26"
             ],
             [
              1,
              "#f0f921"
             ]
            ],
            "type": "surface"
           }
          ],
          "table": [
           {
            "cells": {
             "fill": {
              "color": "#EBF0F8"
             },
             "line": {
              "color": "white"
             }
            },
            "header": {
             "fill": {
              "color": "#C8D4E3"
             },
             "line": {
              "color": "white"
             }
            },
            "type": "table"
           }
          ]
         },
         "layout": {
          "annotationdefaults": {
           "arrowcolor": "#2a3f5f",
           "arrowhead": 0,
           "arrowwidth": 1
          },
          "autotypenumbers": "strict",
          "coloraxis": {
           "colorbar": {
            "outlinewidth": 0,
            "ticks": ""
           }
          },
          "colorscale": {
           "diverging": [
            [
             0,
             "#8e0152"
            ],
            [
             0.1,
             "#c51b7d"
            ],
            [
             0.2,
             "#de77ae"
            ],
            [
             0.3,
             "#f1b6da"
            ],
            [
             0.4,
             "#fde0ef"
            ],
            [
             0.5,
             "#f7f7f7"
            ],
            [
             0.6,
             "#e6f5d0"
            ],
            [
             0.7,
             "#b8e186"
            ],
            [
             0.8,
             "#7fbc41"
            ],
            [
             0.9,
             "#4d9221"
            ],
            [
             1,
             "#276419"
            ]
           ],
           "sequential": [
            [
             0,
             "#0d0887"
            ],
            [
             0.1111111111111111,
             "#46039f"
            ],
            [
             0.2222222222222222,
             "#7201a8"
            ],
            [
             0.3333333333333333,
             "#9c179e"
            ],
            [
             0.4444444444444444,
             "#bd3786"
            ],
            [
             0.5555555555555556,
             "#d8576b"
            ],
            [
             0.6666666666666666,
             "#ed7953"
            ],
            [
             0.7777777777777778,
             "#fb9f3a"
            ],
            [
             0.8888888888888888,
             "#fdca26"
            ],
            [
             1,
             "#f0f921"
            ]
           ],
           "sequentialminus": [
            [
             0,
             "#0d0887"
            ],
            [
             0.1111111111111111,
             "#46039f"
            ],
            [
             0.2222222222222222,
             "#7201a8"
            ],
            [
             0.3333333333333333,
             "#9c179e"
            ],
            [
             0.4444444444444444,
             "#bd3786"
            ],
            [
             0.5555555555555556,
             "#d8576b"
            ],
            [
             0.6666666666666666,
             "#ed7953"
            ],
            [
             0.7777777777777778,
             "#fb9f3a"
            ],
            [
             0.8888888888888888,
             "#fdca26"
            ],
            [
             1,
             "#f0f921"
            ]
           ]
          },
          "colorway": [
           "#636efa",
           "#EF553B",
           "#00cc96",
           "#ab63fa",
           "#FFA15A",
           "#19d3f3",
           "#FF6692",
           "#B6E880",
           "#FF97FF",
           "#FECB52"
          ],
          "font": {
           "color": "#2a3f5f"
          },
          "geo": {
           "bgcolor": "white",
           "lakecolor": "white",
           "landcolor": "white",
           "showlakes": true,
           "showland": true,
           "subunitcolor": "#C8D4E3"
          },
          "hoverlabel": {
           "align": "left"
          },
          "hovermode": "closest",
          "mapbox": {
           "style": "light"
          },
          "paper_bgcolor": "white",
          "plot_bgcolor": "white",
          "polar": {
           "angularaxis": {
            "gridcolor": "#EBF0F8",
            "linecolor": "#EBF0F8",
            "ticks": ""
           },
           "bgcolor": "white",
           "radialaxis": {
            "gridcolor": "#EBF0F8",
            "linecolor": "#EBF0F8",
            "ticks": ""
           }
          },
          "scene": {
           "xaxis": {
            "backgroundcolor": "white",
            "gridcolor": "#DFE8F3",
            "gridwidth": 2,
            "linecolor": "#EBF0F8",
            "showbackground": true,
            "ticks": "",
            "zerolinecolor": "#EBF0F8"
           },
           "yaxis": {
            "backgroundcolor": "white",
            "gridcolor": "#DFE8F3",
            "gridwidth": 2,
            "linecolor": "#EBF0F8",
            "showbackground": true,
            "ticks": "",
            "zerolinecolor": "#EBF0F8"
           },
           "zaxis": {
            "backgroundcolor": "white",
            "gridcolor": "#DFE8F3",
            "gridwidth": 2,
            "linecolor": "#EBF0F8",
            "showbackground": true,
            "ticks": "",
            "zerolinecolor": "#EBF0F8"
           }
          },
          "shapedefaults": {
           "line": {
            "color": "#2a3f5f"
           }
          },
          "ternary": {
           "aaxis": {
            "gridcolor": "#DFE8F3",
            "linecolor": "#A2B1C6",
            "ticks": ""
           },
           "baxis": {
            "gridcolor": "#DFE8F3",
            "linecolor": "#A2B1C6",
            "ticks": ""
           },
           "bgcolor": "white",
           "caxis": {
            "gridcolor": "#DFE8F3",
            "linecolor": "#A2B1C6",
            "ticks": ""
           }
          },
          "title": {
           "x": 0.05
          },
          "xaxis": {
           "automargin": true,
           "gridcolor": "#EBF0F8",
           "linecolor": "#EBF0F8",
           "ticks": "",
           "title": {
            "standoff": 15
           },
           "zerolinecolor": "#EBF0F8",
           "zerolinewidth": 2
          },
          "yaxis": {
           "automargin": true,
           "gridcolor": "#EBF0F8",
           "linecolor": "#EBF0F8",
           "ticks": "",
           "title": {
            "standoff": 15
           },
           "zerolinecolor": "#EBF0F8",
           "zerolinewidth": 2
          }
         }
        },
        "title": {
         "text": "Andel elever som saknar godkänt betyg i ett eller fler ämnen",
         "x": 0.5
        },
        "width": 1200,
        "xaxis": {
         "anchor": "y",
         "domain": [
          0,
          1
         ],
         "range": [
          -0.2,
          4.2
         ],
         "title": {
          "font": {
           "size": 14
          },
          "text": "Läsår"
         }
        },
        "yaxis": {
         "anchor": "x",
         "domain": [
          0,
          1
         ],
         "range": [
          19,
          30
         ],
         "title": {
          "font": {
           "size": 14
          },
          "text": "Andel elever (%)"
         }
        }
       }
      }
     },
     "metadata": {},
     "output_type": "display_data"
    }
   ],
   "source": [
    "fig = px.line(df, x=df.index, y=df.columns, title=\"Andel elever som saknar godkänt betyg i ett eller fler ämnen\",\n",
    "              color_discrete_sequence=custom_colors,\n",
    "              labels={'index': 'Läsår', 'value': 'Andel elever (%)', 'variable': 'Kön'})\n",
    "\n",
    "fig.update_layout(template='plotly_white', font=dict(family='Arial', size=17),\n",
    "                  xaxis_title=\"Läsår\", yaxis_title=\"Andel elever (%)\",\n",
    "                  legend=dict(orientation='v', yanchor='top', y=-0.2, xanchor='right', x=1,\n",
    "                              traceorder='normal', bordercolor='gray', borderwidth=1, title=None),\n",
    "                  title=dict(x=0.5),\n",
    "                  yaxis=dict(range=[19, 30]),\n",
    "                  xaxis_title_font=dict(size=14),\n",
    "                  yaxis_title_font=dict(size=14),\n",
    "                  margin=dict(l=120, r=120, t=120, b=120),\n",
    "                  height=800,\n",
    "                  width=1200)\n",
    "\n",
    "fig.update_xaxes(range=[-0.2,4.2])\n",
    "\n",
    "fig.update_traces(line=dict(width=2, dash='dash'), mode='lines+markers', marker=dict(size=10), \n",
    "                  texttemplate='%{y:.1f}', textposition='top center', textfont=dict(size=12, color='black')) \n",
    "\n",
    "fig.show()\n",
    "\n",
    "fig.write_html('visualiseringar/andel_betyg.html')\n",
    "\n",
    "# point/marker for each year, the lines could be dashed, "
   ]
  },
  {
   "cell_type": "markdown",
   "metadata": {},
   "source": [
    "#### b) Rita ett linjediagram för meritvärde för 16 ämnen för totalt, flickor och pojkar för läsår 18-23."
   ]
  },
  {
   "cell_type": "code",
   "execution_count": 733,
   "metadata": {},
   "outputs": [
    {
     "data": {
      "text/html": [
       "<div>\n",
       "<style scoped>\n",
       "    .dataframe tbody tr th:only-of-type {\n",
       "        vertical-align: middle;\n",
       "    }\n",
       "\n",
       "    .dataframe tbody tr th {\n",
       "        vertical-align: top;\n",
       "    }\n",
       "\n",
       "    .dataframe thead th {\n",
       "        text-align: right;\n",
       "    }\n",
       "</style>\n",
       "<table border=\"1\" class=\"dataframe\">\n",
       "  <thead>\n",
       "    <tr style=\"text-align: right;\">\n",
       "      <th></th>\n",
       "      <th>Totalt</th>\n",
       "      <th>Flickor</th>\n",
       "      <th>Pojkar</th>\n",
       "    </tr>\n",
       "    <tr>\n",
       "      <th>Unnamed: 0</th>\n",
       "      <th></th>\n",
       "      <th></th>\n",
       "      <th></th>\n",
       "    </tr>\n",
       "  </thead>\n",
       "  <tbody>\n",
       "    <tr>\n",
       "      <th>2018/19</th>\n",
       "      <td>221.7</td>\n",
       "      <td>234.3</td>\n",
       "      <td>209.8</td>\n",
       "    </tr>\n",
       "    <tr>\n",
       "      <th>2019/20</th>\n",
       "      <td>222.9</td>\n",
       "      <td>235.7</td>\n",
       "      <td>210.9</td>\n",
       "    </tr>\n",
       "    <tr>\n",
       "      <th>2020/21</th>\n",
       "      <td>223.9</td>\n",
       "      <td>235.4</td>\n",
       "      <td>212.9</td>\n",
       "    </tr>\n",
       "    <tr>\n",
       "      <th>2021/22</th>\n",
       "      <td>221.2</td>\n",
       "      <td>231.6</td>\n",
       "      <td>211.4</td>\n",
       "    </tr>\n",
       "    <tr>\n",
       "      <th>2022/23</th>\n",
       "      <td>220.6</td>\n",
       "      <td>229.7</td>\n",
       "      <td>211.9</td>\n",
       "    </tr>\n",
       "  </tbody>\n",
       "</table>\n",
       "</div>"
      ],
      "text/plain": [
       "            Totalt  Flickor  Pojkar\n",
       "Unnamed: 0                         \n",
       "2018/19      221.7    234.3   209.8\n",
       "2019/20      222.9    235.7   210.9\n",
       "2020/21      223.9    235.4   212.9\n",
       "2021/22      221.2    231.6   211.4\n",
       "2022/23      220.6    229.7   211.9"
      ]
     },
     "execution_count": 733,
     "metadata": {},
     "output_type": "execute_result"
    }
   ],
   "source": [
    "file_path = \"betyg_o_prov_riksnivå.xlsx\"\n",
    "df = pd.read_excel(file_path, sheet_name=\"Tabell 1B\", skiprows=7).head()\n",
    "\n",
    "columns_to_exclude = ['Totalt.2', 'Flickor.2', 'Pojkar.2', 'Totalt.1', 'Flickor.1', 'Pojkar.1']\n",
    "df = df.drop(columns=columns_to_exclude)\n",
    "\n",
    "df.index = df.iloc[:, 0]\n",
    "df = df.drop(columns=df.columns[0])\n",
    "\n",
    "df = df.rename(columns=lambda x: x.replace('.2', ''))\n",
    "\n",
    "df"
   ]
  },
  {
   "cell_type": "code",
   "execution_count": 734,
   "metadata": {},
   "outputs": [
    {
     "data": {
      "application/vnd.plotly.v1+json": {
       "config": {
        "plotlyServerURL": "https://plot.ly"
       },
       "data": [
        {
         "hovertemplate": "Kön=Totalt<br>Unnamed: 0=%{x}<br>Meritvärde=%{y}<extra></extra>",
         "legendgroup": "Totalt",
         "line": {
          "color": "#404040",
          "dash": "dash",
          "width": 2
         },
         "marker": {
          "size": 10,
          "symbol": "circle"
         },
         "mode": "lines+markers",
         "name": "Totalt",
         "orientation": "v",
         "showlegend": true,
         "textfont": {
          "color": "black",
          "size": 20
         },
         "textposition": "top center",
         "texttemplate": "%{y:.1f}",
         "type": "scatter",
         "x": [
          "2018/19",
          "2019/20",
          "2020/21",
          "2021/22",
          "2022/23"
         ],
         "xaxis": "x",
         "y": [
          221.7,
          222.9,
          223.9,
          221.2,
          220.6
         ],
         "yaxis": "y"
        },
        {
         "hovertemplate": "Kön=Flickor<br>Unnamed: 0=%{x}<br>Meritvärde=%{y}<extra></extra>",
         "legendgroup": "Flickor",
         "line": {
          "color": "#FF9700",
          "dash": "dash",
          "width": 2
         },
         "marker": {
          "size": 10,
          "symbol": "circle"
         },
         "mode": "lines+markers",
         "name": "Flickor",
         "orientation": "v",
         "showlegend": true,
         "textfont": {
          "color": "black",
          "size": 20
         },
         "textposition": "top center",
         "texttemplate": "%{y:.1f}",
         "type": "scatter",
         "x": [
          "2018/19",
          "2019/20",
          "2020/21",
          "2021/22",
          "2022/23"
         ],
         "xaxis": "x",
         "y": [
          234.3,
          235.7,
          235.4,
          231.6,
          229.7
         ],
         "yaxis": "y"
        },
        {
         "hovertemplate": "Kön=Pojkar<br>Unnamed: 0=%{x}<br>Meritvärde=%{y}<extra></extra>",
         "legendgroup": "Pojkar",
         "line": {
          "color": "#0275E0",
          "dash": "dash",
          "width": 2
         },
         "marker": {
          "size": 10,
          "symbol": "circle"
         },
         "mode": "lines+markers",
         "name": "Pojkar",
         "orientation": "v",
         "showlegend": true,
         "textfont": {
          "color": "black",
          "size": 20
         },
         "textposition": "top center",
         "texttemplate": "%{y:.1f}",
         "type": "scatter",
         "x": [
          "2018/19",
          "2019/20",
          "2020/21",
          "2021/22",
          "2022/23"
         ],
         "xaxis": "x",
         "y": [
          209.8,
          210.9,
          212.9,
          211.4,
          211.9
         ],
         "yaxis": "y"
        }
       ],
       "layout": {
        "font": {
         "family": "Arial",
         "size": 17
        },
        "height": 800,
        "legend": {
         "bordercolor": "gray",
         "borderwidth": 1,
         "orientation": "v",
         "title": {},
         "tracegroupgap": 0,
         "traceorder": "normal",
         "x": 1,
         "xanchor": "right",
         "y": -0.2,
         "yanchor": "top"
        },
        "margin": {
         "b": 120,
         "l": 150,
         "r": 120,
         "t": 120
        },
        "template": {
         "data": {
          "bar": [
           {
            "error_x": {
             "color": "#2a3f5f"
            },
            "error_y": {
             "color": "#2a3f5f"
            },
            "marker": {
             "line": {
              "color": "white",
              "width": 0.5
             },
             "pattern": {
              "fillmode": "overlay",
              "size": 10,
              "solidity": 0.2
             }
            },
            "type": "bar"
           }
          ],
          "barpolar": [
           {
            "marker": {
             "line": {
              "color": "white",
              "width": 0.5
             },
             "pattern": {
              "fillmode": "overlay",
              "size": 10,
              "solidity": 0.2
             }
            },
            "type": "barpolar"
           }
          ],
          "carpet": [
           {
            "aaxis": {
             "endlinecolor": "#2a3f5f",
             "gridcolor": "#C8D4E3",
             "linecolor": "#C8D4E3",
             "minorgridcolor": "#C8D4E3",
             "startlinecolor": "#2a3f5f"
            },
            "baxis": {
             "endlinecolor": "#2a3f5f",
             "gridcolor": "#C8D4E3",
             "linecolor": "#C8D4E3",
             "minorgridcolor": "#C8D4E3",
             "startlinecolor": "#2a3f5f"
            },
            "type": "carpet"
           }
          ],
          "choropleth": [
           {
            "colorbar": {
             "outlinewidth": 0,
             "ticks": ""
            },
            "type": "choropleth"
           }
          ],
          "contour": [
           {
            "colorbar": {
             "outlinewidth": 0,
             "ticks": ""
            },
            "colorscale": [
             [
              0,
              "#0d0887"
             ],
             [
              0.1111111111111111,
              "#46039f"
             ],
             [
              0.2222222222222222,
              "#7201a8"
             ],
             [
              0.3333333333333333,
              "#9c179e"
             ],
             [
              0.4444444444444444,
              "#bd3786"
             ],
             [
              0.5555555555555556,
              "#d8576b"
             ],
             [
              0.6666666666666666,
              "#ed7953"
             ],
             [
              0.7777777777777778,
              "#fb9f3a"
             ],
             [
              0.8888888888888888,
              "#fdca26"
             ],
             [
              1,
              "#f0f921"
             ]
            ],
            "type": "contour"
           }
          ],
          "contourcarpet": [
           {
            "colorbar": {
             "outlinewidth": 0,
             "ticks": ""
            },
            "type": "contourcarpet"
           }
          ],
          "heatmap": [
           {
            "colorbar": {
             "outlinewidth": 0,
             "ticks": ""
            },
            "colorscale": [
             [
              0,
              "#0d0887"
             ],
             [
              0.1111111111111111,
              "#46039f"
             ],
             [
              0.2222222222222222,
              "#7201a8"
             ],
             [
              0.3333333333333333,
              "#9c179e"
             ],
             [
              0.4444444444444444,
              "#bd3786"
             ],
             [
              0.5555555555555556,
              "#d8576b"
             ],
             [
              0.6666666666666666,
              "#ed7953"
             ],
             [
              0.7777777777777778,
              "#fb9f3a"
             ],
             [
              0.8888888888888888,
              "#fdca26"
             ],
             [
              1,
              "#f0f921"
             ]
            ],
            "type": "heatmap"
           }
          ],
          "heatmapgl": [
           {
            "colorbar": {
             "outlinewidth": 0,
             "ticks": ""
            },
            "colorscale": [
             [
              0,
              "#0d0887"
             ],
             [
              0.1111111111111111,
              "#46039f"
             ],
             [
              0.2222222222222222,
              "#7201a8"
             ],
             [
              0.3333333333333333,
              "#9c179e"
             ],
             [
              0.4444444444444444,
              "#bd3786"
             ],
             [
              0.5555555555555556,
              "#d8576b"
             ],
             [
              0.6666666666666666,
              "#ed7953"
             ],
             [
              0.7777777777777778,
              "#fb9f3a"
             ],
             [
              0.8888888888888888,
              "#fdca26"
             ],
             [
              1,
              "#f0f921"
             ]
            ],
            "type": "heatmapgl"
           }
          ],
          "histogram": [
           {
            "marker": {
             "pattern": {
              "fillmode": "overlay",
              "size": 10,
              "solidity": 0.2
             }
            },
            "type": "histogram"
           }
          ],
          "histogram2d": [
           {
            "colorbar": {
             "outlinewidth": 0,
             "ticks": ""
            },
            "colorscale": [
             [
              0,
              "#0d0887"
             ],
             [
              0.1111111111111111,
              "#46039f"
             ],
             [
              0.2222222222222222,
              "#7201a8"
             ],
             [
              0.3333333333333333,
              "#9c179e"
             ],
             [
              0.4444444444444444,
              "#bd3786"
             ],
             [
              0.5555555555555556,
              "#d8576b"
             ],
             [
              0.6666666666666666,
              "#ed7953"
             ],
             [
              0.7777777777777778,
              "#fb9f3a"
             ],
             [
              0.8888888888888888,
              "#fdca26"
             ],
             [
              1,
              "#f0f921"
             ]
            ],
            "type": "histogram2d"
           }
          ],
          "histogram2dcontour": [
           {
            "colorbar": {
             "outlinewidth": 0,
             "ticks": ""
            },
            "colorscale": [
             [
              0,
              "#0d0887"
             ],
             [
              0.1111111111111111,
              "#46039f"
             ],
             [
              0.2222222222222222,
              "#7201a8"
             ],
             [
              0.3333333333333333,
              "#9c179e"
             ],
             [
              0.4444444444444444,
              "#bd3786"
             ],
             [
              0.5555555555555556,
              "#d8576b"
             ],
             [
              0.6666666666666666,
              "#ed7953"
             ],
             [
              0.7777777777777778,
              "#fb9f3a"
             ],
             [
              0.8888888888888888,
              "#fdca26"
             ],
             [
              1,
              "#f0f921"
             ]
            ],
            "type": "histogram2dcontour"
           }
          ],
          "mesh3d": [
           {
            "colorbar": {
             "outlinewidth": 0,
             "ticks": ""
            },
            "type": "mesh3d"
           }
          ],
          "parcoords": [
           {
            "line": {
             "colorbar": {
              "outlinewidth": 0,
              "ticks": ""
             }
            },
            "type": "parcoords"
           }
          ],
          "pie": [
           {
            "automargin": true,
            "type": "pie"
           }
          ],
          "scatter": [
           {
            "fillpattern": {
             "fillmode": "overlay",
             "size": 10,
             "solidity": 0.2
            },
            "type": "scatter"
           }
          ],
          "scatter3d": [
           {
            "line": {
             "colorbar": {
              "outlinewidth": 0,
              "ticks": ""
             }
            },
            "marker": {
             "colorbar": {
              "outlinewidth": 0,
              "ticks": ""
             }
            },
            "type": "scatter3d"
           }
          ],
          "scattercarpet": [
           {
            "marker": {
             "colorbar": {
              "outlinewidth": 0,
              "ticks": ""
             }
            },
            "type": "scattercarpet"
           }
          ],
          "scattergeo": [
           {
            "marker": {
             "colorbar": {
              "outlinewidth": 0,
              "ticks": ""
             }
            },
            "type": "scattergeo"
           }
          ],
          "scattergl": [
           {
            "marker": {
             "colorbar": {
              "outlinewidth": 0,
              "ticks": ""
             }
            },
            "type": "scattergl"
           }
          ],
          "scattermapbox": [
           {
            "marker": {
             "colorbar": {
              "outlinewidth": 0,
              "ticks": ""
             }
            },
            "type": "scattermapbox"
           }
          ],
          "scatterpolar": [
           {
            "marker": {
             "colorbar": {
              "outlinewidth": 0,
              "ticks": ""
             }
            },
            "type": "scatterpolar"
           }
          ],
          "scatterpolargl": [
           {
            "marker": {
             "colorbar": {
              "outlinewidth": 0,
              "ticks": ""
             }
            },
            "type": "scatterpolargl"
           }
          ],
          "scatterternary": [
           {
            "marker": {
             "colorbar": {
              "outlinewidth": 0,
              "ticks": ""
             }
            },
            "type": "scatterternary"
           }
          ],
          "surface": [
           {
            "colorbar": {
             "outlinewidth": 0,
             "ticks": ""
            },
            "colorscale": [
             [
              0,
              "#0d0887"
             ],
             [
              0.1111111111111111,
              "#46039f"
             ],
             [
              0.2222222222222222,
              "#7201a8"
             ],
             [
              0.3333333333333333,
              "#9c179e"
             ],
             [
              0.4444444444444444,
              "#bd3786"
             ],
             [
              0.5555555555555556,
              "#d8576b"
             ],
             [
              0.6666666666666666,
              "#ed7953"
             ],
             [
              0.7777777777777778,
              "#fb9f3a"
             ],
             [
              0.8888888888888888,
              "#fdca26"
             ],
             [
              1,
              "#f0f921"
             ]
            ],
            "type": "surface"
           }
          ],
          "table": [
           {
            "cells": {
             "fill": {
              "color": "#EBF0F8"
             },
             "line": {
              "color": "white"
             }
            },
            "header": {
             "fill": {
              "color": "#C8D4E3"
             },
             "line": {
              "color": "white"
             }
            },
            "type": "table"
           }
          ]
         },
         "layout": {
          "annotationdefaults": {
           "arrowcolor": "#2a3f5f",
           "arrowhead": 0,
           "arrowwidth": 1
          },
          "autotypenumbers": "strict",
          "coloraxis": {
           "colorbar": {
            "outlinewidth": 0,
            "ticks": ""
           }
          },
          "colorscale": {
           "diverging": [
            [
             0,
             "#8e0152"
            ],
            [
             0.1,
             "#c51b7d"
            ],
            [
             0.2,
             "#de77ae"
            ],
            [
             0.3,
             "#f1b6da"
            ],
            [
             0.4,
             "#fde0ef"
            ],
            [
             0.5,
             "#f7f7f7"
            ],
            [
             0.6,
             "#e6f5d0"
            ],
            [
             0.7,
             "#b8e186"
            ],
            [
             0.8,
             "#7fbc41"
            ],
            [
             0.9,
             "#4d9221"
            ],
            [
             1,
             "#276419"
            ]
           ],
           "sequential": [
            [
             0,
             "#0d0887"
            ],
            [
             0.1111111111111111,
             "#46039f"
            ],
            [
             0.2222222222222222,
             "#7201a8"
            ],
            [
             0.3333333333333333,
             "#9c179e"
            ],
            [
             0.4444444444444444,
             "#bd3786"
            ],
            [
             0.5555555555555556,
             "#d8576b"
            ],
            [
             0.6666666666666666,
             "#ed7953"
            ],
            [
             0.7777777777777778,
             "#fb9f3a"
            ],
            [
             0.8888888888888888,
             "#fdca26"
            ],
            [
             1,
             "#f0f921"
            ]
           ],
           "sequentialminus": [
            [
             0,
             "#0d0887"
            ],
            [
             0.1111111111111111,
             "#46039f"
            ],
            [
             0.2222222222222222,
             "#7201a8"
            ],
            [
             0.3333333333333333,
             "#9c179e"
            ],
            [
             0.4444444444444444,
             "#bd3786"
            ],
            [
             0.5555555555555556,
             "#d8576b"
            ],
            [
             0.6666666666666666,
             "#ed7953"
            ],
            [
             0.7777777777777778,
             "#fb9f3a"
            ],
            [
             0.8888888888888888,
             "#fdca26"
            ],
            [
             1,
             "#f0f921"
            ]
           ]
          },
          "colorway": [
           "#636efa",
           "#EF553B",
           "#00cc96",
           "#ab63fa",
           "#FFA15A",
           "#19d3f3",
           "#FF6692",
           "#B6E880",
           "#FF97FF",
           "#FECB52"
          ],
          "font": {
           "color": "#2a3f5f"
          },
          "geo": {
           "bgcolor": "white",
           "lakecolor": "white",
           "landcolor": "white",
           "showlakes": true,
           "showland": true,
           "subunitcolor": "#C8D4E3"
          },
          "hoverlabel": {
           "align": "left"
          },
          "hovermode": "closest",
          "mapbox": {
           "style": "light"
          },
          "paper_bgcolor": "white",
          "plot_bgcolor": "white",
          "polar": {
           "angularaxis": {
            "gridcolor": "#EBF0F8",
            "linecolor": "#EBF0F8",
            "ticks": ""
           },
           "bgcolor": "white",
           "radialaxis": {
            "gridcolor": "#EBF0F8",
            "linecolor": "#EBF0F8",
            "ticks": ""
           }
          },
          "scene": {
           "xaxis": {
            "backgroundcolor": "white",
            "gridcolor": "#DFE8F3",
            "gridwidth": 2,
            "linecolor": "#EBF0F8",
            "showbackground": true,
            "ticks": "",
            "zerolinecolor": "#EBF0F8"
           },
           "yaxis": {
            "backgroundcolor": "white",
            "gridcolor": "#DFE8F3",
            "gridwidth": 2,
            "linecolor": "#EBF0F8",
            "showbackground": true,
            "ticks": "",
            "zerolinecolor": "#EBF0F8"
           },
           "zaxis": {
            "backgroundcolor": "white",
            "gridcolor": "#DFE8F3",
            "gridwidth": 2,
            "linecolor": "#EBF0F8",
            "showbackground": true,
            "ticks": "",
            "zerolinecolor": "#EBF0F8"
           }
          },
          "shapedefaults": {
           "line": {
            "color": "#2a3f5f"
           }
          },
          "ternary": {
           "aaxis": {
            "gridcolor": "#DFE8F3",
            "linecolor": "#A2B1C6",
            "ticks": ""
           },
           "baxis": {
            "gridcolor": "#DFE8F3",
            "linecolor": "#A2B1C6",
            "ticks": ""
           },
           "bgcolor": "white",
           "caxis": {
            "gridcolor": "#DFE8F3",
            "linecolor": "#A2B1C6",
            "ticks": ""
           }
          },
          "title": {
           "x": 0.05
          },
          "xaxis": {
           "automargin": true,
           "gridcolor": "#EBF0F8",
           "linecolor": "#EBF0F8",
           "ticks": "",
           "title": {
            "standoff": 15
           },
           "zerolinecolor": "#EBF0F8",
           "zerolinewidth": 2
          },
          "yaxis": {
           "automargin": true,
           "gridcolor": "#EBF0F8",
           "linecolor": "#EBF0F8",
           "ticks": "",
           "title": {
            "standoff": 15
           },
           "zerolinecolor": "#EBF0F8",
           "zerolinewidth": 2
          }
         }
        },
        "title": {
         "text": "Meritvärde för 16 ämnen för totalt, flickor och pojkar",
         "x": 0.5
        },
        "width": 1500,
        "xaxis": {
         "anchor": "y",
         "domain": [
          0,
          1
         ],
         "range": [
          -0.2,
          4.2
         ],
         "tickfont": {
          "size": 16
         },
         "ticklen": 10,
         "title": {
          "font": {
           "size": 14
          },
          "text": "Läsår"
         }
        },
        "yaxis": {
         "anchor": "x",
         "domain": [
          0,
          1
         ],
         "range": [
          200,
          245
         ],
         "tickfont": {
          "size": 16
         },
         "title": {
          "font": {
           "size": 14
          },
          "text": "Meritvärde"
         }
        }
       }
      }
     },
     "metadata": {},
     "output_type": "display_data"
    }
   ],
   "source": [
    "fig = px.line(df, x=df.index, y=df.columns, title=\"Meritvärde för 16 ämnen för totalt, flickor och pojkar\",\n",
    "              color_discrete_sequence=custom_colors,\n",
    "              labels={'index': 'Läsår', 'value': 'Meritvärde', 'variable': 'Kön'})\n",
    "\n",
    "fig.update_layout(template='plotly_white', font=dict(family='Arial', size=17),\n",
    "                  xaxis_title=\"Läsår\", yaxis_title=\"Meritvärde\",\n",
    "                  legend=dict(orientation='v', yanchor='top', y=-0.2, xanchor='right', x=1,\n",
    "                              traceorder='normal', bordercolor='gray', borderwidth=1, title=None),\n",
    "                  title=dict(x=0.5),\n",
    "                  xaxis=dict(ticklen=10, tickfont=dict(size=16)),\n",
    "                  xaxis_title_font=dict(size=14),\n",
    "                  yaxis_title_font=dict(size=14),\n",
    "                   yaxis=dict(range=[200, 245], tickfont=dict(size=16)),\n",
    "                  margin=dict(l=150, r=120, t=120, b=120),\n",
    "                  height=800,\n",
    "                  width=1500)  # Adjust the width of the figure)\n",
    "\n",
    "fig.update_traces(line=dict(width=2, dash='dash'), mode='lines+markers', marker=dict(size=10), \n",
    "                  texttemplate='%{y:.1f}', textposition='top center', textfont=dict(size=20, color='black')) \n",
    "\n",
    "fig.update_xaxes(range=[-0.2,4.2])\n",
    "\n",
    "fig.write_html('visualiseringar/meritvarde_16.html')\n",
    "\n",
    "fig.show()"
   ]
  },
  {
   "cell_type": "markdown",
   "metadata": {},
   "source": [
    "##### c) Undersök nu andra variabler, och hur de påverkar meritvärde och andel med minst ett saknat betyg. Data finns för läsår 22/23. Exempel kan man undersöka föräldrarnas utbildningsbakgrund. Rita lämpliga grafer."
   ]
  },
  {
   "cell_type": "markdown",
   "metadata": {},
   "source": [
    "The following code is an attempt to visualize school performance of students of different origins."
   ]
  },
  {
   "cell_type": "code",
   "execution_count": 735,
   "metadata": {},
   "outputs": [
    {
     "data": {
      "text/html": [
       "<div>\n",
       "<style scoped>\n",
       "    .dataframe tbody tr th:only-of-type {\n",
       "        vertical-align: middle;\n",
       "    }\n",
       "\n",
       "    .dataframe tbody tr th {\n",
       "        vertical-align: top;\n",
       "    }\n",
       "\n",
       "    .dataframe thead th {\n",
       "        text-align: right;\n",
       "    }\n",
       "</style>\n",
       "<table border=\"1\" class=\"dataframe\">\n",
       "  <thead>\n",
       "    <tr style=\"text-align: right;\">\n",
       "      <th></th>\n",
       "      <th>M 16 Totalt</th>\n",
       "      <th>M 16 Flickor</th>\n",
       "      <th>M 16 Pojkar</th>\n",
       "      <th>M 17 Totalt</th>\n",
       "      <th>M 17 Flickor</th>\n",
       "      <th>M 17 Pojkar</th>\n",
       "      <th>Saknar Betyg Totalt</th>\n",
       "      <th>Saknar Betyg Flickor</th>\n",
       "      <th>Saknar Betyg Pojkar</th>\n",
       "    </tr>\n",
       "    <tr>\n",
       "      <th>Unnamed: 0</th>\n",
       "      <th></th>\n",
       "      <th></th>\n",
       "      <th></th>\n",
       "      <th></th>\n",
       "      <th></th>\n",
       "      <th></th>\n",
       "      <th></th>\n",
       "      <th></th>\n",
       "      <th></th>\n",
       "    </tr>\n",
       "  </thead>\n",
       "  <tbody>\n",
       "    <tr>\n",
       "      <th>2018/19</th>\n",
       "      <td>221.7</td>\n",
       "      <td>234.3</td>\n",
       "      <td>209.8</td>\n",
       "      <td>229.8</td>\n",
       "      <td>243.3</td>\n",
       "      <td>217.0</td>\n",
       "      <td>24.5</td>\n",
       "      <td>21.7</td>\n",
       "      <td>27.2</td>\n",
       "    </tr>\n",
       "    <tr>\n",
       "      <th>2019/20</th>\n",
       "      <td>222.9</td>\n",
       "      <td>235.7</td>\n",
       "      <td>210.9</td>\n",
       "      <td>231.1</td>\n",
       "      <td>244.9</td>\n",
       "      <td>218.2</td>\n",
       "      <td>23.9</td>\n",
       "      <td>21.4</td>\n",
       "      <td>26.3</td>\n",
       "    </tr>\n",
       "    <tr>\n",
       "      <th>2020/21</th>\n",
       "      <td>223.9</td>\n",
       "      <td>235.4</td>\n",
       "      <td>212.9</td>\n",
       "      <td>232.1</td>\n",
       "      <td>244.4</td>\n",
       "      <td>220.3</td>\n",
       "      <td>23.9</td>\n",
       "      <td>21.9</td>\n",
       "      <td>25.9</td>\n",
       "    </tr>\n",
       "    <tr>\n",
       "      <th>2021/22</th>\n",
       "      <td>221.2</td>\n",
       "      <td>231.6</td>\n",
       "      <td>211.4</td>\n",
       "      <td>229.2</td>\n",
       "      <td>240.3</td>\n",
       "      <td>218.8</td>\n",
       "      <td>25.9</td>\n",
       "      <td>24.2</td>\n",
       "      <td>27.5</td>\n",
       "    </tr>\n",
       "    <tr>\n",
       "      <th>2022/23</th>\n",
       "      <td>220.6</td>\n",
       "      <td>229.7</td>\n",
       "      <td>211.9</td>\n",
       "      <td>228.5</td>\n",
       "      <td>238.2</td>\n",
       "      <td>219.3</td>\n",
       "      <td>26.8</td>\n",
       "      <td>25.5</td>\n",
       "      <td>28.0</td>\n",
       "    </tr>\n",
       "    <tr>\n",
       "      <th>därav</th>\n",
       "      <td>NaN</td>\n",
       "      <td>NaN</td>\n",
       "      <td>NaN</td>\n",
       "      <td>NaN</td>\n",
       "      <td>NaN</td>\n",
       "      <td>NaN</td>\n",
       "      <td>NaN</td>\n",
       "      <td>NaN</td>\n",
       "      <td>NaN</td>\n",
       "    </tr>\n",
       "    <tr>\n",
       "      <th>Kommun</th>\n",
       "      <td>216.1</td>\n",
       "      <td>225.6</td>\n",
       "      <td>207.2</td>\n",
       "      <td>223.6</td>\n",
       "      <td>233.8</td>\n",
       "      <td>214.1</td>\n",
       "      <td>28.9</td>\n",
       "      <td>27.4</td>\n",
       "      <td>30.3</td>\n",
       "    </tr>\n",
       "    <tr>\n",
       "      <th>Enskild</th>\n",
       "      <td>237.9</td>\n",
       "      <td>245.0</td>\n",
       "      <td>230.8</td>\n",
       "      <td>247.2</td>\n",
       "      <td>254.8</td>\n",
       "      <td>239.7</td>\n",
       "      <td>18.7</td>\n",
       "      <td>18.4</td>\n",
       "      <td>19.0</td>\n",
       "    </tr>\n",
       "    <tr>\n",
       "      <th>därav</th>\n",
       "      <td>NaN</td>\n",
       "      <td>NaN</td>\n",
       "      <td>NaN</td>\n",
       "      <td>NaN</td>\n",
       "      <td>NaN</td>\n",
       "      <td>NaN</td>\n",
       "      <td>NaN</td>\n",
       "      <td>NaN</td>\n",
       "      <td>NaN</td>\n",
       "    </tr>\n",
       "    <tr>\n",
       "      <th>Allmän inriktning</th>\n",
       "      <td>238.5</td>\n",
       "      <td>245.8</td>\n",
       "      <td>231.2</td>\n",
       "      <td>247.9</td>\n",
       "      <td>255.7</td>\n",
       "      <td>240.1</td>\n",
       "      <td>18.0</td>\n",
       "      <td>17.7</td>\n",
       "      <td>18.3</td>\n",
       "    </tr>\n",
       "    <tr>\n",
       "      <th>Konfessionell</th>\n",
       "      <td>225.6</td>\n",
       "      <td>230.5</td>\n",
       "      <td>220.5</td>\n",
       "      <td>233.2</td>\n",
       "      <td>238.4</td>\n",
       "      <td>227.8</td>\n",
       "      <td>29.4</td>\n",
       "      <td>29.5</td>\n",
       "      <td>29.4</td>\n",
       "    </tr>\n",
       "    <tr>\n",
       "      <th>Waldorf</th>\n",
       "      <td>236.3</td>\n",
       "      <td>239.0</td>\n",
       "      <td>233.9</td>\n",
       "      <td>244.3</td>\n",
       "      <td>247.1</td>\n",
       "      <td>241.7</td>\n",
       "      <td>25.6</td>\n",
       "      <td>25.3</td>\n",
       "      <td>25.8</td>\n",
       "    </tr>\n",
       "    <tr>\n",
       "      <th>Elever med svensk bakgrund</th>\n",
       "      <td>227.4</td>\n",
       "      <td>236.3</td>\n",
       "      <td>219.1</td>\n",
       "      <td>236.0</td>\n",
       "      <td>245.4</td>\n",
       "      <td>227.1</td>\n",
       "      <td>21.4</td>\n",
       "      <td>20.5</td>\n",
       "      <td>22.2</td>\n",
       "    </tr>\n",
       "    <tr>\n",
       "      <th>Elever med utländsk bakgrund</th>\n",
       "      <td>204.0</td>\n",
       "      <td>214.1</td>\n",
       "      <td>194.5</td>\n",
       "      <td>210.2</td>\n",
       "      <td>221.0</td>\n",
       "      <td>200.1</td>\n",
       "      <td>40.2</td>\n",
       "      <td>37.8</td>\n",
       "      <td>42.5</td>\n",
       "    </tr>\n",
       "    <tr>\n",
       "      <th>därav</th>\n",
       "      <td>NaN</td>\n",
       "      <td>NaN</td>\n",
       "      <td>NaN</td>\n",
       "      <td>NaN</td>\n",
       "      <td>NaN</td>\n",
       "      <td>NaN</td>\n",
       "      <td>NaN</td>\n",
       "      <td>NaN</td>\n",
       "      <td>NaN</td>\n",
       "    </tr>\n",
       "    <tr>\n",
       "      <th>Födda i Sverige</th>\n",
       "      <td>215.5</td>\n",
       "      <td>224.7</td>\n",
       "      <td>206.6</td>\n",
       "      <td>223.0</td>\n",
       "      <td>232.8</td>\n",
       "      <td>213.5</td>\n",
       "      <td>32.6</td>\n",
       "      <td>30.8</td>\n",
       "      <td>34.3</td>\n",
       "    </tr>\n",
       "    <tr>\n",
       "      <th>Födda utomlands, inv. före 2014</th>\n",
       "      <td>217.4</td>\n",
       "      <td>227.6</td>\n",
       "      <td>208.0</td>\n",
       "      <td>224.8</td>\n",
       "      <td>235.8</td>\n",
       "      <td>214.7</td>\n",
       "      <td>32.0</td>\n",
       "      <td>29.8</td>\n",
       "      <td>34.0</td>\n",
       "    </tr>\n",
       "    <tr>\n",
       "      <th>Födda utomlands, inv. 2014 el. senare</th>\n",
       "      <td>182.1</td>\n",
       "      <td>193.1</td>\n",
       "      <td>171.8</td>\n",
       "      <td>186.1</td>\n",
       "      <td>197.7</td>\n",
       "      <td>175.1</td>\n",
       "      <td>54.3</td>\n",
       "      <td>51.1</td>\n",
       "      <td>57.2</td>\n",
       "    </tr>\n",
       "    <tr>\n",
       "      <th>Totalt exkl. nyinvandrade elever och okänd bakgrund</th>\n",
       "      <td>223.0</td>\n",
       "      <td>232.1</td>\n",
       "      <td>214.3</td>\n",
       "      <td>231.1</td>\n",
       "      <td>240.9</td>\n",
       "      <td>221.7</td>\n",
       "      <td>25.2</td>\n",
       "      <td>24.0</td>\n",
       "      <td>26.4</td>\n",
       "    </tr>\n",
       "    <tr>\n",
       "      <th>Nyinvandrade elever</th>\n",
       "      <td>144.8</td>\n",
       "      <td>152.0</td>\n",
       "      <td>138.2</td>\n",
       "      <td>146.2</td>\n",
       "      <td>153.6</td>\n",
       "      <td>139.3</td>\n",
       "      <td>75.0</td>\n",
       "      <td>72.9</td>\n",
       "      <td>77.0</td>\n",
       "    </tr>\n",
       "    <tr>\n",
       "      <th>Elever med okänd bakgrund</th>\n",
       "      <td>133.3</td>\n",
       "      <td>133.9</td>\n",
       "      <td>132.8</td>\n",
       "      <td>135.2</td>\n",
       "      <td>135.8</td>\n",
       "      <td>134.6</td>\n",
       "      <td>77.9</td>\n",
       "      <td>79.8</td>\n",
       "      <td>76.1</td>\n",
       "    </tr>\n",
       "    <tr>\n",
       "      <th>Föräldrarnas högsta utbildning2</th>\n",
       "      <td>NaN</td>\n",
       "      <td>NaN</td>\n",
       "      <td>NaN</td>\n",
       "      <td>NaN</td>\n",
       "      <td>NaN</td>\n",
       "      <td>NaN</td>\n",
       "      <td>NaN</td>\n",
       "      <td>NaN</td>\n",
       "      <td>NaN</td>\n",
       "    </tr>\n",
       "    <tr>\n",
       "      <th>Förgymnasial utbildning</th>\n",
       "      <td>163.8</td>\n",
       "      <td>172.2</td>\n",
       "      <td>155.8</td>\n",
       "      <td>166.8</td>\n",
       "      <td>175.6</td>\n",
       "      <td>158.3</td>\n",
       "      <td>63.5</td>\n",
       "      <td>61.5</td>\n",
       "      <td>65.3</td>\n",
       "    </tr>\n",
       "    <tr>\n",
       "      <th>Gymnasial utbildning</th>\n",
       "      <td>197.4</td>\n",
       "      <td>207.2</td>\n",
       "      <td>188.2</td>\n",
       "      <td>203.2</td>\n",
       "      <td>213.6</td>\n",
       "      <td>193.3</td>\n",
       "      <td>37.4</td>\n",
       "      <td>35.2</td>\n",
       "      <td>39.5</td>\n",
       "    </tr>\n",
       "    <tr>\n",
       "      <th>Eftergymnasial utbildning</th>\n",
       "      <td>239.1</td>\n",
       "      <td>247.9</td>\n",
       "      <td>230.7</td>\n",
       "      <td>248.6</td>\n",
       "      <td>258.1</td>\n",
       "      <td>239.6</td>\n",
       "      <td>16.8</td>\n",
       "      <td>16.1</td>\n",
       "      <td>17.5</td>\n",
       "    </tr>\n",
       "    <tr>\n",
       "      <th>därav</th>\n",
       "      <td>NaN</td>\n",
       "      <td>NaN</td>\n",
       "      <td>NaN</td>\n",
       "      <td>NaN</td>\n",
       "      <td>NaN</td>\n",
       "      <td>NaN</td>\n",
       "      <td>NaN</td>\n",
       "      <td>NaN</td>\n",
       "      <td>NaN</td>\n",
       "    </tr>\n",
       "    <tr>\n",
       "      <th>Kort utbildning</th>\n",
       "      <td>218.9</td>\n",
       "      <td>228.4</td>\n",
       "      <td>209.7</td>\n",
       "      <td>226.5</td>\n",
       "      <td>236.6</td>\n",
       "      <td>216.6</td>\n",
       "      <td>26.1</td>\n",
       "      <td>24.5</td>\n",
       "      <td>27.5</td>\n",
       "    </tr>\n",
       "    <tr>\n",
       "      <th>Lång utbildning</th>\n",
       "      <td>245.8</td>\n",
       "      <td>254.5</td>\n",
       "      <td>237.6</td>\n",
       "      <td>256.0</td>\n",
       "      <td>265.3</td>\n",
       "      <td>247.2</td>\n",
       "      <td>13.7</td>\n",
       "      <td>13.3</td>\n",
       "      <td>14.1</td>\n",
       "    </tr>\n",
       "  </tbody>\n",
       "</table>\n",
       "</div>"
      ],
      "text/plain": [
       "                                                    M 16 Totalt  M 16 Flickor  \\\n",
       "Unnamed: 0                                                                      \n",
       "2018/19                                                   221.7         234.3   \n",
       "2019/20                                                   222.9         235.7   \n",
       "2020/21                                                   223.9         235.4   \n",
       "2021/22                                                   221.2         231.6   \n",
       "2022/23                                                   220.6         229.7   \n",
       "därav                                                       NaN           NaN   \n",
       "Kommun                                                    216.1         225.6   \n",
       "Enskild                                                   237.9         245.0   \n",
       "därav                                                       NaN           NaN   \n",
       "Allmän inriktning                                         238.5         245.8   \n",
       "Konfessionell                                             225.6         230.5   \n",
       "Waldorf                                                   236.3         239.0   \n",
       "Elever med svensk bakgrund                                227.4         236.3   \n",
       "Elever med utländsk bakgrund                              204.0         214.1   \n",
       "därav                                                       NaN           NaN   \n",
       "Födda i Sverige                                           215.5         224.7   \n",
       "Födda utomlands, inv. före 2014                           217.4         227.6   \n",
       "Födda utomlands, inv. 2014 el. senare                     182.1         193.1   \n",
       "Totalt exkl. nyinvandrade elever och okänd bakg...        223.0         232.1   \n",
       "Nyinvandrade elever                                       144.8         152.0   \n",
       "Elever med okänd bakgrund                                 133.3         133.9   \n",
       "Föräldrarnas högsta utbildning2                             NaN           NaN   \n",
       "Förgymnasial utbildning                                   163.8         172.2   \n",
       "Gymnasial utbildning                                      197.4         207.2   \n",
       "Eftergymnasial utbildning                                 239.1         247.9   \n",
       "därav                                                       NaN           NaN   \n",
       "Kort utbildning                                           218.9         228.4   \n",
       "Lång utbildning                                           245.8         254.5   \n",
       "\n",
       "                                                    M 16 Pojkar  M 17 Totalt  \\\n",
       "Unnamed: 0                                                                     \n",
       "2018/19                                                   209.8        229.8   \n",
       "2019/20                                                   210.9        231.1   \n",
       "2020/21                                                   212.9        232.1   \n",
       "2021/22                                                   211.4        229.2   \n",
       "2022/23                                                   211.9        228.5   \n",
       "därav                                                       NaN          NaN   \n",
       "Kommun                                                    207.2        223.6   \n",
       "Enskild                                                   230.8        247.2   \n",
       "därav                                                       NaN          NaN   \n",
       "Allmän inriktning                                         231.2        247.9   \n",
       "Konfessionell                                             220.5        233.2   \n",
       "Waldorf                                                   233.9        244.3   \n",
       "Elever med svensk bakgrund                                219.1        236.0   \n",
       "Elever med utländsk bakgrund                              194.5        210.2   \n",
       "därav                                                       NaN          NaN   \n",
       "Födda i Sverige                                           206.6        223.0   \n",
       "Födda utomlands, inv. före 2014                           208.0        224.8   \n",
       "Födda utomlands, inv. 2014 el. senare                     171.8        186.1   \n",
       "Totalt exkl. nyinvandrade elever och okänd bakg...        214.3        231.1   \n",
       "Nyinvandrade elever                                       138.2        146.2   \n",
       "Elever med okänd bakgrund                                 132.8        135.2   \n",
       "Föräldrarnas högsta utbildning2                             NaN          NaN   \n",
       "Förgymnasial utbildning                                   155.8        166.8   \n",
       "Gymnasial utbildning                                      188.2        203.2   \n",
       "Eftergymnasial utbildning                                 230.7        248.6   \n",
       "därav                                                       NaN          NaN   \n",
       "Kort utbildning                                           209.7        226.5   \n",
       "Lång utbildning                                           237.6        256.0   \n",
       "\n",
       "                                                    M 17 Flickor  M 17 Pojkar  \\\n",
       "Unnamed: 0                                                                      \n",
       "2018/19                                                    243.3        217.0   \n",
       "2019/20                                                    244.9        218.2   \n",
       "2020/21                                                    244.4        220.3   \n",
       "2021/22                                                    240.3        218.8   \n",
       "2022/23                                                    238.2        219.3   \n",
       "därav                                                        NaN          NaN   \n",
       "Kommun                                                     233.8        214.1   \n",
       "Enskild                                                    254.8        239.7   \n",
       "därav                                                        NaN          NaN   \n",
       "Allmän inriktning                                          255.7        240.1   \n",
       "Konfessionell                                              238.4        227.8   \n",
       "Waldorf                                                    247.1        241.7   \n",
       "Elever med svensk bakgrund                                 245.4        227.1   \n",
       "Elever med utländsk bakgrund                               221.0        200.1   \n",
       "därav                                                        NaN          NaN   \n",
       "Födda i Sverige                                            232.8        213.5   \n",
       "Födda utomlands, inv. före 2014                            235.8        214.7   \n",
       "Födda utomlands, inv. 2014 el. senare                      197.7        175.1   \n",
       "Totalt exkl. nyinvandrade elever och okänd bakg...         240.9        221.7   \n",
       "Nyinvandrade elever                                        153.6        139.3   \n",
       "Elever med okänd bakgrund                                  135.8        134.6   \n",
       "Föräldrarnas högsta utbildning2                              NaN          NaN   \n",
       "Förgymnasial utbildning                                    175.6        158.3   \n",
       "Gymnasial utbildning                                       213.6        193.3   \n",
       "Eftergymnasial utbildning                                  258.1        239.6   \n",
       "därav                                                        NaN          NaN   \n",
       "Kort utbildning                                            236.6        216.6   \n",
       "Lång utbildning                                            265.3        247.2   \n",
       "\n",
       "                                                    Saknar Betyg Totalt  \\\n",
       "Unnamed: 0                                                                \n",
       "2018/19                                                            24.5   \n",
       "2019/20                                                            23.9   \n",
       "2020/21                                                            23.9   \n",
       "2021/22                                                            25.9   \n",
       "2022/23                                                            26.8   \n",
       "därav                                                               NaN   \n",
       "Kommun                                                             28.9   \n",
       "Enskild                                                            18.7   \n",
       "därav                                                               NaN   \n",
       "Allmän inriktning                                                  18.0   \n",
       "Konfessionell                                                      29.4   \n",
       "Waldorf                                                            25.6   \n",
       "Elever med svensk bakgrund                                         21.4   \n",
       "Elever med utländsk bakgrund                                       40.2   \n",
       "därav                                                               NaN   \n",
       "Födda i Sverige                                                    32.6   \n",
       "Födda utomlands, inv. före 2014                                    32.0   \n",
       "Födda utomlands, inv. 2014 el. senare                              54.3   \n",
       "Totalt exkl. nyinvandrade elever och okänd bakg...                 25.2   \n",
       "Nyinvandrade elever                                                75.0   \n",
       "Elever med okänd bakgrund                                          77.9   \n",
       "Föräldrarnas högsta utbildning2                                     NaN   \n",
       "Förgymnasial utbildning                                            63.5   \n",
       "Gymnasial utbildning                                               37.4   \n",
       "Eftergymnasial utbildning                                          16.8   \n",
       "därav                                                               NaN   \n",
       "Kort utbildning                                                    26.1   \n",
       "Lång utbildning                                                    13.7   \n",
       "\n",
       "                                                    Saknar Betyg Flickor  \\\n",
       "Unnamed: 0                                                                 \n",
       "2018/19                                                             21.7   \n",
       "2019/20                                                             21.4   \n",
       "2020/21                                                             21.9   \n",
       "2021/22                                                             24.2   \n",
       "2022/23                                                             25.5   \n",
       "därav                                                                NaN   \n",
       "Kommun                                                              27.4   \n",
       "Enskild                                                             18.4   \n",
       "därav                                                                NaN   \n",
       "Allmän inriktning                                                   17.7   \n",
       "Konfessionell                                                       29.5   \n",
       "Waldorf                                                             25.3   \n",
       "Elever med svensk bakgrund                                          20.5   \n",
       "Elever med utländsk bakgrund                                        37.8   \n",
       "därav                                                                NaN   \n",
       "Födda i Sverige                                                     30.8   \n",
       "Födda utomlands, inv. före 2014                                     29.8   \n",
       "Födda utomlands, inv. 2014 el. senare                               51.1   \n",
       "Totalt exkl. nyinvandrade elever och okänd bakg...                  24.0   \n",
       "Nyinvandrade elever                                                 72.9   \n",
       "Elever med okänd bakgrund                                           79.8   \n",
       "Föräldrarnas högsta utbildning2                                      NaN   \n",
       "Förgymnasial utbildning                                             61.5   \n",
       "Gymnasial utbildning                                                35.2   \n",
       "Eftergymnasial utbildning                                           16.1   \n",
       "därav                                                                NaN   \n",
       "Kort utbildning                                                     24.5   \n",
       "Lång utbildning                                                     13.3   \n",
       "\n",
       "                                                    Saknar Betyg Pojkar  \n",
       "Unnamed: 0                                                               \n",
       "2018/19                                                            27.2  \n",
       "2019/20                                                            26.3  \n",
       "2020/21                                                            25.9  \n",
       "2021/22                                                            27.5  \n",
       "2022/23                                                            28.0  \n",
       "därav                                                               NaN  \n",
       "Kommun                                                             30.3  \n",
       "Enskild                                                            19.0  \n",
       "därav                                                               NaN  \n",
       "Allmän inriktning                                                  18.3  \n",
       "Konfessionell                                                      29.4  \n",
       "Waldorf                                                            25.8  \n",
       "Elever med svensk bakgrund                                         22.2  \n",
       "Elever med utländsk bakgrund                                       42.5  \n",
       "därav                                                               NaN  \n",
       "Födda i Sverige                                                    34.3  \n",
       "Födda utomlands, inv. före 2014                                    34.0  \n",
       "Födda utomlands, inv. 2014 el. senare                              57.2  \n",
       "Totalt exkl. nyinvandrade elever och okänd bakg...                 26.4  \n",
       "Nyinvandrade elever                                                77.0  \n",
       "Elever med okänd bakgrund                                          76.1  \n",
       "Föräldrarnas högsta utbildning2                                     NaN  \n",
       "Förgymnasial utbildning                                            65.3  \n",
       "Gymnasial utbildning                                               39.5  \n",
       "Eftergymnasial utbildning                                          17.5  \n",
       "därav                                                               NaN  \n",
       "Kort utbildning                                                    27.5  \n",
       "Lång utbildning                                                    14.1  "
      ]
     },
     "execution_count": 735,
     "metadata": {},
     "output_type": "execute_result"
    }
   ],
   "source": [
    "\n",
    "file_path = \"betyg_o_prov_riksnivå.xlsx\"\n",
    "\n",
    "df = pd.read_excel(file_path, sheet_name=\"Tabell 1B\", skiprows=7)\n",
    "df.index = df.iloc[:, 0]\n",
    "df.drop(df.columns[0], axis=1, inplace=True)\n",
    "\n",
    "df.rename(columns={'Totalt': 'M 16 Totalt', 'Flickor': 'M 16 Flickor', 'Pojkar': 'M 16 Pojkar'}, inplace=True)\n",
    "df.rename(columns={'Totalt.1': 'M 17 Totalt', 'Flickor.1': 'M 17 Flickor', 'Pojkar.1': 'M 17 Pojkar'}, inplace=True)\n",
    "df.rename(columns={'Totalt.2': 'Saknar Betyg Totalt', 'Flickor.2': 'Saknar Betyg Flickor', 'Pojkar.2': 'Saknar Betyg Pojkar'}, inplace=True)\n",
    "\n",
    "df\n",
    "\n",
    "#Födda i Sverige - Nyinvadrare elever - Födda utomlands, inv. före 2014\n",
    "# Yaxes = %, Xaxes = meritvärde 16\n",
    "# use maskering, filtering, query"
   ]
  },
  {
   "cell_type": "code",
   "execution_count": 736,
   "metadata": {},
   "outputs": [
    {
     "data": {
      "text/html": [
       "<div>\n",
       "<style scoped>\n",
       "    .dataframe tbody tr th:only-of-type {\n",
       "        vertical-align: middle;\n",
       "    }\n",
       "\n",
       "    .dataframe tbody tr th {\n",
       "        vertical-align: top;\n",
       "    }\n",
       "\n",
       "    .dataframe thead th {\n",
       "        text-align: right;\n",
       "    }\n",
       "</style>\n",
       "<table border=\"1\" class=\"dataframe\">\n",
       "  <thead>\n",
       "    <tr style=\"text-align: right;\">\n",
       "      <th></th>\n",
       "      <th>M 16 Totalt</th>\n",
       "      <th>M 16 Flickor</th>\n",
       "      <th>M 16 Pojkar</th>\n",
       "      <th>M 17 Totalt</th>\n",
       "      <th>M 17 Flickor</th>\n",
       "      <th>M 17 Pojkar</th>\n",
       "      <th>Saknar Betyg Totalt</th>\n",
       "      <th>Saknar Betyg Flickor</th>\n",
       "      <th>Saknar Betyg Pojkar</th>\n",
       "    </tr>\n",
       "    <tr>\n",
       "      <th>Unnamed: 0</th>\n",
       "      <th></th>\n",
       "      <th></th>\n",
       "      <th></th>\n",
       "      <th></th>\n",
       "      <th></th>\n",
       "      <th></th>\n",
       "      <th></th>\n",
       "      <th></th>\n",
       "      <th></th>\n",
       "    </tr>\n",
       "  </thead>\n",
       "  <tbody>\n",
       "    <tr>\n",
       "      <th>Födda i Sverige</th>\n",
       "      <td>215.5</td>\n",
       "      <td>224.7</td>\n",
       "      <td>206.6</td>\n",
       "      <td>223.0</td>\n",
       "      <td>232.8</td>\n",
       "      <td>213.5</td>\n",
       "      <td>32.6</td>\n",
       "      <td>30.8</td>\n",
       "      <td>34.3</td>\n",
       "    </tr>\n",
       "    <tr>\n",
       "      <th>Födda utomlands, inv. före 2014</th>\n",
       "      <td>217.4</td>\n",
       "      <td>227.6</td>\n",
       "      <td>208.0</td>\n",
       "      <td>224.8</td>\n",
       "      <td>235.8</td>\n",
       "      <td>214.7</td>\n",
       "      <td>32.0</td>\n",
       "      <td>29.8</td>\n",
       "      <td>34.0</td>\n",
       "    </tr>\n",
       "    <tr>\n",
       "      <th>Födda utomlands, inv. 2014 el. senare</th>\n",
       "      <td>182.1</td>\n",
       "      <td>193.1</td>\n",
       "      <td>171.8</td>\n",
       "      <td>186.1</td>\n",
       "      <td>197.7</td>\n",
       "      <td>175.1</td>\n",
       "      <td>54.3</td>\n",
       "      <td>51.1</td>\n",
       "      <td>57.2</td>\n",
       "    </tr>\n",
       "    <tr>\n",
       "      <th>Nyinvandrade elever</th>\n",
       "      <td>144.8</td>\n",
       "      <td>152.0</td>\n",
       "      <td>138.2</td>\n",
       "      <td>146.2</td>\n",
       "      <td>153.6</td>\n",
       "      <td>139.3</td>\n",
       "      <td>75.0</td>\n",
       "      <td>72.9</td>\n",
       "      <td>77.0</td>\n",
       "    </tr>\n",
       "  </tbody>\n",
       "</table>\n",
       "</div>"
      ],
      "text/plain": [
       "                                       M 16 Totalt  M 16 Flickor  M 16 Pojkar  \\\n",
       "Unnamed: 0                                                                      \n",
       "Födda i Sverige                              215.5         224.7        206.6   \n",
       "Födda utomlands, inv. före 2014              217.4         227.6        208.0   \n",
       "Födda utomlands, inv. 2014 el. senare        182.1         193.1        171.8   \n",
       "Nyinvandrade elever                          144.8         152.0        138.2   \n",
       "\n",
       "                                       M 17 Totalt  M 17 Flickor  M 17 Pojkar  \\\n",
       "Unnamed: 0                                                                      \n",
       "Födda i Sverige                              223.0         232.8        213.5   \n",
       "Födda utomlands, inv. före 2014              224.8         235.8        214.7   \n",
       "Födda utomlands, inv. 2014 el. senare        186.1         197.7        175.1   \n",
       "Nyinvandrade elever                          146.2         153.6        139.3   \n",
       "\n",
       "                                       Saknar Betyg Totalt  \\\n",
       "Unnamed: 0                                                   \n",
       "Födda i Sverige                                       32.6   \n",
       "Födda utomlands, inv. före 2014                       32.0   \n",
       "Födda utomlands, inv. 2014 el. senare                 54.3   \n",
       "Nyinvandrade elever                                   75.0   \n",
       "\n",
       "                                       Saknar Betyg Flickor  \\\n",
       "Unnamed: 0                                                    \n",
       "Födda i Sverige                                        30.8   \n",
       "Födda utomlands, inv. före 2014                        29.8   \n",
       "Födda utomlands, inv. 2014 el. senare                  51.1   \n",
       "Nyinvandrade elever                                    72.9   \n",
       "\n",
       "                                       Saknar Betyg Pojkar  \n",
       "Unnamed: 0                                                  \n",
       "Födda i Sverige                                       34.3  \n",
       "Födda utomlands, inv. före 2014                       34.0  \n",
       "Födda utomlands, inv. 2014 el. senare                 57.2  \n",
       "Nyinvandrade elever                                   77.0  "
      ]
     },
     "execution_count": 736,
     "metadata": {},
     "output_type": "execute_result"
    }
   ],
   "source": [
    "# Select relevant rows\n",
    "selected_titles = [\"Födda i Sverige\", \"Födda utomlands, inv. före 2014\", \"Födda utomlands, inv. 2014 el. senare\", \"Nyinvandrade elever\"]\n",
    "\n",
    "mask = df.index.isin(selected_titles)\n",
    "\n",
    "selected_rows = df[mask]\n",
    "\n",
    "selected_rows\n"
   ]
  },
  {
   "cell_type": "code",
   "execution_count": 737,
   "metadata": {},
   "outputs": [
    {
     "name": "stderr",
     "output_type": "stream",
     "text": [
      "C:\\Users\\arthu\\AppData\\Local\\Temp\\ipykernel_20260\\2040918619.py:6: SettingWithCopyWarning:\n",
      "\n",
      "\n",
      "A value is trying to be set on a copy of a slice from a DataFrame\n",
      "\n",
      "See the caveats in the documentation: https://pandas.pydata.org/pandas-docs/stable/user_guide/indexing.html#returning-a-view-versus-a-copy\n",
      "\n"
     ]
    },
    {
     "data": {
      "text/html": [
       "<div>\n",
       "<style scoped>\n",
       "    .dataframe tbody tr th:only-of-type {\n",
       "        vertical-align: middle;\n",
       "    }\n",
       "\n",
       "    .dataframe tbody tr th {\n",
       "        vertical-align: top;\n",
       "    }\n",
       "\n",
       "    .dataframe thead th {\n",
       "        text-align: right;\n",
       "    }\n",
       "</style>\n",
       "<table border=\"1\" class=\"dataframe\">\n",
       "  <thead>\n",
       "    <tr style=\"text-align: right;\">\n",
       "      <th></th>\n",
       "      <th>M 16 Totalt</th>\n",
       "      <th>M 16 Flickor</th>\n",
       "      <th>M 16 Pojkar</th>\n",
       "      <th>M 17 Totalt</th>\n",
       "      <th>M 17 Flickor</th>\n",
       "      <th>M 17 Pojkar</th>\n",
       "      <th>Saknar Betyg Totalt</th>\n",
       "      <th>Saknar Betyg Flickor</th>\n",
       "      <th>Saknar Betyg Pojkar</th>\n",
       "    </tr>\n",
       "    <tr>\n",
       "      <th>Unnamed: 0</th>\n",
       "      <th></th>\n",
       "      <th></th>\n",
       "      <th></th>\n",
       "      <th></th>\n",
       "      <th></th>\n",
       "      <th></th>\n",
       "      <th></th>\n",
       "      <th></th>\n",
       "      <th></th>\n",
       "    </tr>\n",
       "  </thead>\n",
       "  <tbody>\n",
       "    <tr>\n",
       "      <th>Födda i Sverige</th>\n",
       "      <td>215.5</td>\n",
       "      <td>224.7</td>\n",
       "      <td>206.6</td>\n",
       "      <td>223.0</td>\n",
       "      <td>232.8</td>\n",
       "      <td>213.5</td>\n",
       "      <td>32.6</td>\n",
       "      <td>30.8</td>\n",
       "      <td>34.3</td>\n",
       "    </tr>\n",
       "    <tr>\n",
       "      <th>Födda utomlands, inv. före 2014</th>\n",
       "      <td>217.4</td>\n",
       "      <td>227.6</td>\n",
       "      <td>208.0</td>\n",
       "      <td>224.8</td>\n",
       "      <td>235.8</td>\n",
       "      <td>214.7</td>\n",
       "      <td>32.0</td>\n",
       "      <td>29.8</td>\n",
       "      <td>34.0</td>\n",
       "    </tr>\n",
       "    <tr>\n",
       "      <th>Födda utomlands, inv. 2014 el. senare</th>\n",
       "      <td>182.1</td>\n",
       "      <td>193.1</td>\n",
       "      <td>171.8</td>\n",
       "      <td>186.1</td>\n",
       "      <td>197.7</td>\n",
       "      <td>175.1</td>\n",
       "      <td>54.3</td>\n",
       "      <td>51.1</td>\n",
       "      <td>57.2</td>\n",
       "    </tr>\n",
       "    <tr>\n",
       "      <th>Nyinvandrade elever</th>\n",
       "      <td>144.8</td>\n",
       "      <td>152.0</td>\n",
       "      <td>138.2</td>\n",
       "      <td>146.2</td>\n",
       "      <td>153.6</td>\n",
       "      <td>139.3</td>\n",
       "      <td>75.0</td>\n",
       "      <td>72.9</td>\n",
       "      <td>77.0</td>\n",
       "    </tr>\n",
       "  </tbody>\n",
       "</table>\n",
       "</div>"
      ],
      "text/plain": [
       "                                       M 16 Totalt  M 16 Flickor  M 16 Pojkar  \\\n",
       "Unnamed: 0                                                                      \n",
       "Födda i Sverige                              215.5         224.7        206.6   \n",
       "Födda utomlands, inv. före 2014              217.4         227.6        208.0   \n",
       "Födda utomlands, inv. 2014 el. senare        182.1         193.1        171.8   \n",
       "Nyinvandrade elever                          144.8         152.0        138.2   \n",
       "\n",
       "                                       M 17 Totalt  M 17 Flickor  M 17 Pojkar  \\\n",
       "Unnamed: 0                                                                      \n",
       "Födda i Sverige                              223.0         232.8        213.5   \n",
       "Födda utomlands, inv. före 2014              224.8         235.8        214.7   \n",
       "Födda utomlands, inv. 2014 el. senare        186.1         197.7        175.1   \n",
       "Nyinvandrade elever                          146.2         153.6        139.3   \n",
       "\n",
       "                                       Saknar Betyg Totalt  \\\n",
       "Unnamed: 0                                                   \n",
       "Födda i Sverige                                       32.6   \n",
       "Födda utomlands, inv. före 2014                       32.0   \n",
       "Födda utomlands, inv. 2014 el. senare                 54.3   \n",
       "Nyinvandrade elever                                   75.0   \n",
       "\n",
       "                                       Saknar Betyg Flickor  \\\n",
       "Unnamed: 0                                                    \n",
       "Födda i Sverige                                        30.8   \n",
       "Födda utomlands, inv. före 2014                        29.8   \n",
       "Födda utomlands, inv. 2014 el. senare                  51.1   \n",
       "Nyinvandrade elever                                    72.9   \n",
       "\n",
       "                                       Saknar Betyg Pojkar  \n",
       "Unnamed: 0                                                  \n",
       "Födda i Sverige                                       34.3  \n",
       "Födda utomlands, inv. före 2014                       34.0  \n",
       "Födda utomlands, inv. 2014 el. senare                 57.2  \n",
       "Nyinvandrade elever                                   77.0  "
      ]
     },
     "execution_count": 737,
     "metadata": {},
     "output_type": "execute_result"
    }
   ],
   "source": [
    "# Select relevant rows\n",
    "selected_columns = [\"M 16 Totalt\", \"Saknar Betyg Totalt\"]\n",
    "\n",
    "selected_data = selected_rows[selected_columns]\n",
    "\n",
    "selected_data.rename(index={'Födda utomlands, inv. före 2014': 'Födda utomland\\ninv. före\\n2014', \n",
    "                             'Födda utomlands, inv. 2014 el. senare': 'Födda utomlands\\ninv. 2014\\nel. senare',\n",
    "                             'Nyinvandrade elever': 'Nyinvandrade\\nelever'}, \n",
    "                     inplace=True)\n",
    "\n",
    "selected_rows"
   ]
  },
  {
   "cell_type": "code",
   "execution_count": 783,
   "metadata": {},
   "outputs": [
    {
     "name": "stderr",
     "output_type": "stream",
     "text": [
      "C:\\Users\\arthu\\AppData\\Local\\Temp\\ipykernel_20260\\560484918.py:10: FutureWarning:\n",
      "\n",
      "\n",
      "\n",
      "Passing `palette` without assigning `hue` is deprecated and will be removed in v0.14.0. Assign the `x` variable to `hue` and set `legend=False` for the same effect.\n",
      "\n",
      "\n",
      "C:\\Users\\arthu\\AppData\\Local\\Temp\\ipykernel_20260\\560484918.py:23: FutureWarning:\n",
      "\n",
      "\n",
      "\n",
      "Passing `palette` without assigning `hue` is deprecated and will be removed in v0.14.0. Assign the `x` variable to `hue` and set `legend=False` for the same effect.\n",
      "\n",
      "\n"
     ]
    },
    {
     "data": {
      "image/png": "[encoded data removed]",
      "text/plain": [
       "<Figure size 1600x600 with 2 Axes>"
      ]
     },
     "metadata": {},
     "output_type": "display_data"
    }
   ],
   "source": [
    "import seaborn as sns\n",
    "import matplotlib.pyplot as plt\n",
    "\n",
    "custom_colors = ['#3B3E6F', '#BD5254', '#638B76', '#D4A457']\n",
    "\n",
    "fig, axes = plt.subplots(1, 2, figsize=(16, 6))\n",
    "\n",
    "# Subplot for Percentage of students missing Grades\n",
    "ax1 = axes[0]\n",
    "bars1 = sns.barplot(data=selected_data, x=selected_data.index, y='Saknar Betyg Totalt', palette=custom_colors, ax=ax1)\n",
    "ax1.set_title('Andel elever som saknar betyg', fontsize=12)\n",
    "ax1.set_xlabel(None)\n",
    "ax1.set_ylabel('% Elever som Saknar Betyg', fontsize=10, fontstyle='italic', labelpad=15)\n",
    "ax1.set_ylim(0, 100) \n",
    "\n",
    "# Add value labels\n",
    "for bar in bars1.patches:\n",
    "    height = bar.get_height()\n",
    "    ax1.text(bar.get_x() + bar.get_width() / 2, height, f'{height:.1f}', ha='center', va='bottom', fontsize=8)\n",
    "\n",
    "# Subplot for Meritvärde\n",
    "ax2 = axes[1]\n",
    "bars2 = sns.barplot(data=selected_data, x=selected_data.index, y='M 16 Totalt', palette=custom_colors, ax=ax2)\n",
    "ax2.set_title('Meritvärde för 16 ämnen', fontsize=12)\n",
    "ax2.set_xlabel(None)\n",
    "ax2.set_ylabel('Meritvärde', fontsize=10, fontstyle='italic', labelpad=15)\n",
    "ax2.set_xlim(-0.5, 3.5)\n",
    "\n",
    "for bar in bars2.patches:\n",
    "    height = bar.get_height()\n",
    "    ax2.text(bar.get_x() + bar.get_width() / 2, height, f'{height:.1f}', ha='center', va='bottom', fontsize=8)\n",
    "\n",
    "for ax in axes:\n",
    "    ax.grid(axis='y', linestyle='--', alpha=0.4)\n",
    "\n",
    "\n",
    "fig.suptitle('Analyser baserade på grupper av olika ursprung 2023.', fontsize=20)\n",
    "plt.subplots_adjust(wspace=0.35, hspace=0.3, top=0.82)\n",
    "\n",
    "plt.savefig('visualiseringar/saknarbetyg_meritvarde_subplot.png', bbox_inches='tight', transparent=True, pad_inches=0, facecolor=(1, 1, 1))\n",
    "plt.show()\n"
   ]
  },
  {
   "cell_type": "markdown",
   "metadata": {},
   "source": [
    "scatter "
   ]
  },
  {
   "cell_type": "code",
   "execution_count": 784,
   "metadata": {},
   "outputs": [
    {
     "data": {
      "image/png": "[encoded data removed]",
      "text/plain": [
       "<Figure size 1200x650 with 1 Axes>"
      ]
     },
     "metadata": {},
     "output_type": "display_data"
    }
   ],
   "source": [
    "# Scatter plot\n",
    "plt.figure(figsize=(12, 6.5))\n",
    "sns.scatterplot(data=selected_data, x='M 16 Totalt', y='Saknar Betyg Totalt', hue=selected_data.index, palette=custom_colors, s=100)\n",
    "\n",
    "plt.title('Andel elever som saknar betyg vs. Meritvärde', fontsize=16, pad=20)\n",
    "plt.xlabel('Meritvärde', fontsize=10, style='italic', labelpad=10)\n",
    "plt.ylabel('% Elever som Saknar Betyg', fontsize=10, style='italic', labelpad=10)\n",
    "\n",
    "plt.legend(title='Ursprung', bbox_to_anchor=(1.2, 1), loc='upper left')\n",
    "plt.grid(True, color='lightgray')\n",
    "plt.tight_layout()\n",
    "\n",
    "plt.savefig('visualiseringar/saknarbetyg_vs_meritvarde.png', bbox_inches='tight', transparent=True, pad_inches=0, facecolor=(1, 1, 1))\n",
    "plt.show()\n"
   ]
  }
 ],
 "metadata": {
  "kernelspec": {
   "display_name": "venv",
   "language": "python",
   "name": "python3"
  },
  "language_info": {
   "codemirror_mode": {
    "name": "ipython",
    "version": 3
   },
   "file_extension": ".py",
   "mimetype": "text/x-python",
   "name": "python",
   "nbconvert_exporter": "python",
   "pygments_lexer": "ipython3",
   "version": "3.11.8"
  }
 },
 "nbformat": 4,
 "nbformat_minor": 2
}
