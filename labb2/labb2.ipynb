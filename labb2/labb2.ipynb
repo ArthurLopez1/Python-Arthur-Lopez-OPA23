{
 "cells": [
  {
   "cell_type": "markdown",
   "metadata": {},
   "source": [
    "# Laboration - Skolstatistik\n",
    "\n",
    "Vi hör mycket i media om att Sveriges PISA-resultat blir sämre och att svenska skolan tappar i kunskapsnivå. Låt oss\n",
    "undersöka lite närmre hur det ser ut med hjälp av nationella prov i årskurs 9."
   ]
  },
  {
   "cell_type": "markdown",
   "metadata": {},
   "source": [
    "#### Data\n",
    "Skolverket har samlat mycket statistik kring nationella proven i årskurs 9 som vi kommer att analysera vidare.\n",
    "\n",
    "#### Uppgifter\n",
    "Alla grafer ska exporteras till en undermapp som heter visualiseringar i ditt repo för labben. Exportera\n",
    "matplotlib/seaborngrafer i png-format och plotly-grafer som html-filer. Ge relevanta namn till dina filer så det blir lätt att\n",
    "referera till dem. Notera att du behöver ställa in bakgrundsfärg när du sparar matplotlibgrafer, annars blir de\n",
    "transparenta och svåra att läsa.\n",
    "Tänk på data storytelling, graferna du skapar ska ha lämpliga rubriker, labels, annoteringar, clutter ska tas bort, jobba\n",
    "med attention mha färger mm.\n"
   ]
  },
  {
   "cell_type": "markdown",
   "metadata": {},
   "source": [
    "### Uppgift 0 - uppvärmning med riket\n",
    "I den här uppgiften ska du visualisera med hjälp av matplotlib och/eller seaborn\n",
    "- a) Börja med att läsa in filen riket2023_åk9_np.xlsx och sheets för de olika ämnena. Ändra kolumnnamnen på respektive dataframe så du får något liknande som nedan.\n",
    "- b) Ta reda på antalet som fått F i matematik totalt, pojkar respektive flickor.\n",
    "- c) Rita ett stapeldiagram på totala poängen för de olika ämnena.\n",
    "- d) Rita fyra olika stapeldiagram i subplots på totala poängen för de olika ämnena för de olika huvudmännen."
   ]
  },
  {
   "cell_type": "markdown",
   "metadata": {},
   "source": [
    "![](chart_1.png)"
   ]
  },
  {
   "cell_type": "markdown",
   "metadata": {},
   "source": [
    "#### a)"
   ]
  },
  {
   "cell_type": "code",
   "execution_count": 50,
   "metadata": {},
   "outputs": [
    {
     "name": "stdout",
     "output_type": "stream",
     "text": [
      "Engelska:\n",
      "   Plats    Huvudman  Totalt(A-F)  Flickor(A-F)  Pojkar(A-F)  Totalt(A-E)  \\\n",
      "0  Riket    Samtliga       106941         51864        55077         97.0   \n",
      "1  Riket    Kommunal        84310         40675        43635         96.6   \n",
      "2  Riket     Enskild        22582         11165        11417         98.7   \n",
      "3  Riket  Skolverket           49            24           25        100.0   \n",
      "\n",
      "   Flickor(A-E)  Pojkar(A-E)  Totalt(poäng)  Flickor(poäng)  Pojkar(poäng)  \n",
      "0          97.1         97.0           15.7            15.8           15.7  \n",
      "1          96.6         96.6           15.4            15.5           15.4  \n",
      "2          98.8         98.7           16.9            17.0           16.8  \n",
      "3         100.0        100.0           18.5            18.9           18.2  \n",
      "\n",
      "Matematik:\n",
      "   Plats    Huvudman  Totalt(A-F)  Flickor(A-F)  Pojkar(A-F) Totalt(A-E)  \\\n",
      "0  Riket    Samtliga       106766         51548        55218        89.1   \n",
      "1  Riket    Kommunal        84163         40386        43777        88.1   \n",
      "2  Riket     Enskild        22553         11137        11416        92.9   \n",
      "3  Riket  Skolverket           50            25           25        ~100   \n",
      "\n",
      "  Flickor(A-E) Pojkar(A-E)  Totalt(poäng)  Flickor(poäng)  Pojkar(poäng)  \n",
      "0         88.7        89.5           11.9            11.8           12.0  \n",
      "1         87.7        88.5           11.6            11.5           11.7  \n",
      "2         92.2        93.5           13.0            12.8           13.1  \n",
      "3         ~100        ~100           14.1            13.5           14.7  \n",
      "\n",
      "Svenska:\n",
      "   Plats    Huvudman  Totalt(A-F)  Flickor(A-F)  Pojkar(A-F)  Totalt(A-E)  \\\n",
      "0  Riket    Samtliga        93225         45800        47425         96.1   \n",
      "1  Riket    Kommunal        72771         35484        37287         95.7   \n",
      "2  Riket     Enskild        20414         10297        10117         97.6   \n",
      "3  Riket  Skolverket           40            19           21        100.0   \n",
      "\n",
      "   Flickor(A-E)  Pojkar(A-E)  Totalt(poäng)  Flickor(poäng)  Pojkar(poäng)  \n",
      "0          97.9         94.4           13.6            14.5           12.7  \n",
      "1          97.6         93.8           13.3            14.3           12.4  \n",
      "2          98.7         96.6           14.4            15.2           13.5  \n",
      "3         100.0        100.0           15.0            15.9           14.2  \n",
      "\n",
      "Svenska som andraspråk:\n",
      "   Plats    Huvudman Totalt(A-F) Flickor(A-F) Pojkar(A-F) Totalt(A-E)  \\\n",
      "0  Riket    Samtliga       14092         6447        7645        77.7   \n",
      "1  Riket    Kommunal       11963         5495        6468        75.9   \n",
      "2  Riket     Enskild        2122          949        1173        87.7   \n",
      "3  Riket  Skolverket          ..           ..          ..          ..   \n",
      "\n",
      "  Flickor(A-E) Pojkar(A-E) Totalt(poäng) Flickor(poäng) Pojkar(poäng)  \n",
      "0         81.6        74.3           9.4           10.2           8.7  \n",
      "1           80        72.4             9            9.9           8.3  \n",
      "2         90.9        85.2          11.1             12          10.4  \n",
      "3           ..          ..            ..             ..            ..  \n"
     ]
    }
   ],
   "source": [
    "import pandas as pd\n",
    "\n",
    "# Read files and specify sheets names\n",
    "df_eng = pd.read_excel('riket2023_åk9_np.xlsx', sheet_name='Engelska', skiprows=8)\n",
    "df_mat = pd.read_excel('riket2023_åk9_np.xlsx', sheet_name='Matematik', skiprows=8)\n",
    "df_swe = pd.read_excel('riket2023_åk9_np.xlsx', sheet_name='Svenska', skiprows=8)\n",
    "df_swe_as = pd.read_excel('riket2023_åk9_np.xlsx', sheet_name='Svenska som andraspråk', skiprows=8)\n",
    "\n",
    "# Rename columns for each DataFrame\n",
    "column_names = ['Plats', 'Huvudman', 'Totalt(A-F)', 'Flickor(A-F)', 'Pojkar(A-F)',\n",
    "                'Totalt(A-E)', 'Flickor(A-E)', 'Pojkar(A-E)',\n",
    "                'Totalt(poäng)', 'Flickor(poäng)', 'Pojkar(poäng)']\n",
    "\n",
    "df_eng.columns = column_names\n",
    "df_mat.columns = column_names\n",
    "df_swe.columns = column_names\n",
    "df_swe_as.columns = column_names\n",
    "\n",
    "# Displaying first few rows of each DataFrame to verify changes\n",
    "print(\"Engelska:\")\n",
    "print(df_eng.head())\n",
    "print(\"\\nMatematik:\")\n",
    "print(df_mat.head())\n",
    "print(\"\\nSvenska:\")\n",
    "print(df_swe.head())\n",
    "print(\"\\nSvenska som andraspråk:\")\n",
    "print(df_swe_as.head())\n"
   ]
  },
  {
   "cell_type": "code",
   "execution_count": 52,
   "metadata": {},
   "outputs": [],
   "source": [
    "import pandas as pd\n",
    "\n",
    "# Read files and specify sheets names\n",
    "df_eng = pd.read_excel('riket2023_åk9_np.xlsx', sheet_name='Engelska', skiprows=8)\n",
    "df_mat = pd.read_excel('riket2023_åk9_np.xlsx', sheet_name='Matematik', skiprows=8)\n",
    "df_swe = pd.read_excel('riket2023_åk9_np.xlsx', sheet_name='Svenska', skiprows=8)\n",
    "df_swe_as = pd.read_excel('riket2023_åk9_np.xlsx', sheet_name='Svenska som andraspråk', skiprows=8)\n",
    "\n",
    "# Rename columns for each DataFrame\n",
    "column_names = ['Plats', 'Huvudman', 'Totalt(A-F)', 'Flickor(A-F)', 'Pojkar(A-F)',\n",
    "                'Totalt(A-E)', 'Flickor(A-E)', 'Pojkar(A-E)',\n",
    "                'Totalt(poäng)', 'Flickor(poäng)', 'Pojkar(poäng)']\n",
    "\n",
    "df_eng.columns = column_names\n",
    "df_mat.columns = column_names\n",
    "df_swe.columns = column_names\n",
    "df_swe_as.columns = column_names\n",
    "\n",
    "# Export dataframes to separate Excel files\n",
    "df_eng.to_excel('engelska_grades.xlsx', index=False)\n",
    "df_mat.to_excel('matematik_grades.xlsx', index=False)\n",
    "df_swe.to_excel('svenska_grades.xlsx', index=False)\n",
    "df_swe_as.to_excel('svenska_som_andraspråk_grades.xlsx', index=False)\n",
    "\n"
   ]
  },
  {
   "cell_type": "markdown",
   "metadata": {},
   "source": [
    "#### b)"
   ]
  },
  {
   "cell_type": "code",
   "execution_count": null,
   "metadata": {},
   "outputs": [],
   "source": [
    "# Filter the DataFrame to include only rows where \"Huvudman\" equals \"Samtliga\"\n",
    "df_mat_samtliga = df_mat[df_mat['Huvudman'] == 'Samtliga']\n",
    "\n",
    "# Extracting relevant columns for Mathematics\n",
    "total_math_students = df_mat_samtliga['Totalt(A-F)']\n",
    "girls_math_students = df_mat_samtliga['Flickor(A-F)']\n",
    "boys_math_students = df_mat_samtliga['Pojkar(A-F)']\n",
    "\n",
    "# Clean and convert percentage columns to numeric values\n",
    "percentages_cleaned_total = df_mat_samtliga['Totalt(A-E)'].astype(float)\n",
    "percentages_cleaned_girls = df_mat_samtliga['Flickor(A-E)'].astype(float)\n",
    "percentages_cleaned_boys = df_mat_samtliga['Pojkar(A-E)'].astype(float)\n",
    "\n",
    "# Calculate the number of students who received an 'F' grade in Mathematics\n",
    "total_f_math = (total_math_students * (100 - percentages_cleaned_total) / 100).round().astype(int)\n",
    "girls_f_math = (girls_math_students * (100 - percentages_cleaned_girls) / 100).round().astype(int)\n",
    "boys_f_math = (boys_math_students * (100 - percentages_cleaned_boys) / 100).round().astype(int)\n",
    "\n",
    "# Print the results\n",
    "print(\"Total number of students who received an 'F' grade in Mathematics:\", total_f_math.sum())\n",
    "print(\"Number of boys who received an 'F' grade in Mathematics:\", boys_f_math.sum())\n",
    "print(\"Number of girls who received an 'F' grade in Mathematics:\", girls_f_math.sum())\n",
    "\n"
   ]
  },
  {
   "cell_type": "code",
   "execution_count": null,
   "metadata": {},
   "outputs": [],
   "source": [
    "import pandas as pd\n",
    "import seaborn as sns\n",
    "import matplotlib.pyplot as plt\n",
    "\n",
    "# Read the Excel file\n",
    "file_path = 'riket2023_åk9_np.xlsx'\n",
    "\n",
    "# Read the data for \"Engelska\" sheet and clean up column names\n",
    "df_eng = pd.read_excel(file_path, sheet_name='Engelska', skiprows=1)\n",
    "df_eng.columns = ['Plats', 'Huvudman', 'Totalt (A-F)', 'Flickor (A-F)', 'Pojkar (A-F)',\n",
    "                  'Totalt (A-E)', 'Flickor (A-E)', 'Pojkar (A-E)',\n",
    "                  'Totalt (poäng)', 'Flickor (poäng)', 'Pojkar (poäng)']\n",
    "\n",
    "# Convert 'Totalt (A-F)' column to numeric\n",
    "df_eng['Totalt (A-F)'] = pd.to_numeric(df_eng['Totalt (A-F)'], errors='coerce')\n",
    "\n",
    "# Visualize the data using Seaborn\n",
    "plt.figure(figsize=(10, 6))\n",
    "sns.barplot(x='Huvudman', y='Totalt (A-F)', data=df_eng)\n",
    "plt.title('Engelska - Totalt (A-F) by Huvudman')\n",
    "plt.xticks(rotation=45)\n",
    "plt.tight_layout()\n",
    "plt.show()\n",
    "\n",
    "\n"
   ]
  }
 ],
 "metadata": {
  "kernelspec": {
   "display_name": "venv",
   "language": "python",
   "name": "python3"
  },
  "language_info": {
   "codemirror_mode": {
    "name": "ipython",
    "version": 3
   },
   "file_extension": ".py",
   "mimetype": "text/x-python",
   "name": "python",
   "nbconvert_exporter": "python",
   "pygments_lexer": "ipython3",
   "version": "3.11.8"
  }
 },
 "nbformat": 4,
 "nbformat_minor": 2
}
