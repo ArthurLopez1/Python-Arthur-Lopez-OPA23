{
 "cells": [
  {
   "cell_type": "markdown",
   "metadata": {},
   "source": [
    "# Exercise - while statement"
   ]
  },
  {
   "cell_type": "markdown",
   "metadata": {},
   "source": [
    "### 0. Count numbers (*)\n",
    "Use a while statement to count from -10 to 10 with one increment."
   ]
  },
  {
   "cell_type": "code",
   "execution_count": 63,
   "metadata": {},
   "outputs": [
    {
     "name": "stdout",
     "output_type": "stream",
     "text": [
      "-10\n",
      "-9\n",
      "-8\n",
      "-7\n",
      "-6\n",
      "-5\n",
      "-4\n",
      "-3\n",
      "-2\n",
      "-1\n",
      "0\n",
      "1\n",
      "2\n",
      "3\n",
      "4\n",
      "5\n",
      "6\n",
      "7\n",
      "8\n",
      "9\n",
      "10\n"
     ]
    }
   ],
   "source": [
    "count = -10\n",
    "\n",
    "while count < 11:\n",
    "    print(count)\n",
    "    count+=1"
   ]
  },
  {
   "cell_type": "markdown",
   "metadata": {},
   "source": [
    "### 1. Arithmetic sum (*)\n",
    "Use a while statement to compute the following sums:\n",
    "\n",
    "  a)   sum = 1 + 2 + 3 + ... + 99 + 100\n",
    "\n",
    "  b)   sum = 1 + 3 + 5 + ... + 97 + 99"
   ]
  },
  {
   "cell_type": "code",
   "execution_count": 64,
   "metadata": {},
   "outputs": [
    {
     "name": "stdout",
     "output_type": "stream",
     "text": [
      "5050\n"
     ]
    }
   ],
   "source": [
    "b = 1\n",
    "total = 0\n",
    "\n",
    "while b <= 100:\n",
    "    total += b\n",
    "    b += 1\n",
    "\n",
    "print(total)"
   ]
  },
  {
   "cell_type": "code",
   "execution_count": 65,
   "metadata": {},
   "outputs": [
    {
     "name": "stdout",
     "output_type": "stream",
     "text": [
      "2500\n"
     ]
    }
   ],
   "source": [
    "b = 1\n",
    "total = 0\n",
    "\n",
    "while b <= 99:\n",
    "    total += b\n",
    "    b += 2\n",
    "\n",
    "print(total)"
   ]
  },
  {
   "cell_type": "markdown",
   "metadata": {},
   "source": [
    "### 2. Guess number game (*)\n"
   ]
  },
  {
   "cell_type": "code",
   "execution_count": null,
   "metadata": {},
   "outputs": [],
   "source": [
    "import random\n",
    "\n",
    "count = 1\n",
    "number = random.randrange(1,101)\n",
    "\n",
    "while guess_number != number:\n",
    "        guess_number = int(input(\"Guess a number from 1 to 100\"))\n",
    "        print(\"Wrong try again.\")\n",
    "        count+=1\n",
    "\n",
    "print(f\"Congratulations, you won the game in {count} guesses\")"
   ]
  },
  {
   "cell_type": "code",
   "execution_count": 70,
   "metadata": {},
   "outputs": [
    {
     "name": "stdout",
     "output_type": "stream",
     "text": [
      "Choose a random number from 1 to 100. I'll guess which number it is :)\n",
      "Press '1' if the guess is right, '2' if it's more or '3' if it's less.\n",
      "Congratulations, it took me 3 guesses to get it right. Thanks for playing!\n"
     ]
    }
   ],
   "source": [
    "max_value = 100\n",
    "min_value = 1\n",
    "guesses = 1\n",
    "\n",
    "print(\"Choose a random number from 1 to 100. I'll guess which number it is :)\\nPress '1' if the guess is right, '2' if it's more or '3' if it's less.\")\n",
    "\n",
    "try:\n",
    "\n",
    "    while True:\n",
    "        guess_number = (min_value + max_value) // 2\n",
    "\n",
    "        user_input = int(input(f\"Is {guess_number} too high, too low or correct?\"))\n",
    "        \n",
    "        if user_input == 1:\n",
    "            print(f\"Congratulations, it took me {guesses} guesses to get it right. Thanks for playing!\")\n",
    "            break\n",
    "\n",
    "        elif user_input == 2:\n",
    "            max_value = guess_number - 1\n",
    "            \n",
    "        elif user_input == 3:\n",
    "            min_value = guess_number + 1\n",
    "\n",
    "        else:\n",
    "            print(\"You must choose 1, 2 or 3.\")\n",
    "\n",
    "        guesses +=1\n",
    "\n",
    "except ValueError:\n",
    "    print(\"You must choose 1, 2 or 3.\")"
   ]
  },
  {
   "cell_type": "code",
   "execution_count": null,
   "metadata": {},
   "outputs": [
    {
     "name": "stdout",
     "output_type": "stream",
     "text": [
      "Thanks for playing. Your score is: 0 outta 1\n"
     ]
    }
   ],
   "source": [
    "guesses = 1\n",
    "score = 0\n",
    "\n",
    "while True:\n",
    "    x = random.randint(1,10)\n",
    "    y = random.randint(1,10)\n",
    "\n",
    "    try:\n",
    "        z = input(f\"What is {x} times {y}? Or '0' if you want to stop playing\")\n",
    "\n",
    "        if int(z) == x * y:\n",
    "            print(\"Good job you got it right!\")\n",
    "            guesses += 1\n",
    "            score += 1\n",
    "        elif int(z) == 0:\n",
    "            print(f\"Thanks for playing. Your score is: {score} outta {guesses}\")\n",
    "            break\n",
    "        else:\n",
    "            print(f\"Wrong answer. The right one is {(x*y)}.\")\n",
    "            guesses += 1\n",
    "\n",
    "    except ValueError:\n",
    "        print(\"Invalid input. Please type a numeric value only\")"
   ]
  },
  {
   "cell_type": "code",
   "execution_count": 80,
   "metadata": {},
   "outputs": [
    {
     "name": "stdout",
     "output_type": "stream",
     "text": [
      "Difficulty Levels:\n",
      "1. Easy (Numbers from 1 to 10)\n",
      "2. Medium (Numbers from 1 to 15)\n",
      "3. Hard (Numbers from 1 to 20)\n",
      "Good job you got it right!\n",
      "Wrong answer. The right one is 272.\n",
      "Good job you got it right!\n",
      "Good job you got it right!\n",
      "Good job you got it right!\n",
      "Good job you got it right!\n",
      "Wrong answer. The right one is 20.\n",
      "Good job you got it right!\n",
      "Thanks for playing. Your score is: 6 outta 9\n"
     ]
    }
   ],
   "source": [
    "import random\n",
    "\n",
    "def get_difficulty():\n",
    "    while True:\n",
    "        print(\"Difficulty Levels:\")\n",
    "        print(\"1. Easy (Numbers from 1 to 10)\")\n",
    "        print(\"2. Medium (Numbers from 1 to 15)\")\n",
    "        print(\"3. Hard (Numbers from 1 to 20)\")\n",
    "\n",
    "        difficulty_choice = input(\"Choose your difficulty:\").strip()\n",
    "\n",
    "        if difficulty_choice in ['1', '2', '3']:\n",
    "            return int(difficulty_choice)\n",
    "        else:\n",
    "            print(\"Invalid choice. Please enter 1, 2 or 3\")\n",
    "\n",
    "def main():\n",
    "    guesses = 1\n",
    "    score = 0\n",
    "\n",
    "    difficulty = get_difficulty()\n",
    "\n",
    "    while True:\n",
    "\n",
    "        if difficulty == 1:        \n",
    "            x = random.randint(1,10)\n",
    "            y = random.randint(1,10)\n",
    "        \n",
    "        elif difficulty == 2:\n",
    "            x = random.randint(1,15)\n",
    "            y = random.randint(1,15)\n",
    "        \n",
    "        elif difficulty == 3:\n",
    "            x = random.randint(1,20)\n",
    "            y = random.randint(1,20)\n",
    "\n",
    "        try:\n",
    "            z = input(f\"What is {x} times {y}? Or '0' if you want to stop playing\")\n",
    "\n",
    "            if int(z) == x * y:\n",
    "                print(\"Good job you got it right!\")\n",
    "                guesses += 1\n",
    "                score += 1\n",
    "            elif int(z) == 0:\n",
    "                print(f\"Thanks for playing. Your score is: {score} outta {guesses}\")\n",
    "                break\n",
    "            else:\n",
    "                print(f\"Wrong answer. The right one is {(x*y)}.\")\n",
    "                guesses += 1\n",
    "\n",
    "        except ValueError:\n",
    "            print(\"Invalid input. Please type a numeric value only\")\n",
    "\n",
    "if __name__ == \"__main__\":\n",
    "    main()"
   ]
  },
  {
   "cell_type": "markdown",
   "metadata": {},
   "source": [
    "### 4. Check convergence (**)"
   ]
  },
  {
   "cell_type": "code",
   "execution_count": null,
   "metadata": {},
   "outputs": [],
   "source": []
  }
 ],
 "metadata": {
  "kernelspec": {
   "display_name": "venv",
   "language": "python",
   "name": "python3"
  },
  "language_info": {
   "codemirror_mode": {
    "name": "ipython",
    "version": 3
   },
   "file_extension": ".py",
   "mimetype": "text/x-python",
   "name": "python",
   "nbconvert_exporter": "python",
   "pygments_lexer": "ipython3",
   "version": "3.11.8"
  }
 },
 "nbformat": 4,
 "nbformat_minor": 2
}
