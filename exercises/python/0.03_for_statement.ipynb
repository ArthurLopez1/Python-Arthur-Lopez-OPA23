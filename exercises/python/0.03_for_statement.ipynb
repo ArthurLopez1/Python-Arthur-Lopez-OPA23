{
 "cells": [
  {
   "cell_type": "markdown",
   "metadata": {},
   "source": [
    "# Exercise - for statement"
   ]
  },
  {
   "cell_type": "markdown",
   "metadata": {},
   "source": [
    "###0. Count numbers (*)\n",
    "Use a for statement to count from:\n",
    "\n",
    "  a)   -10 to 10 with one increment (*)\n",
    "\n",
    "  b)   -10 to 10 with two increment (*)"
   ]
  },
  {
   "cell_type": "code",
   "execution_count": 2,
   "metadata": {},
   "outputs": [
    {
     "name": "stdout",
     "output_type": "stream",
     "text": [
      "-10\n",
      "-9\n",
      "-8\n",
      "-7\n",
      "-6\n",
      "-5\n",
      "-4\n",
      "-3\n",
      "-2\n",
      "-1\n",
      "0\n",
      "1\n",
      "2\n",
      "3\n",
      "4\n",
      "5\n",
      "6\n",
      "7\n",
      "8\n",
      "9\n",
      "10\n"
     ]
    }
   ],
   "source": [
    "# a)\n",
    "\n",
    "for i in range(-10, 11):\n",
    "    print(i)"
   ]
  },
  {
   "cell_type": "code",
   "execution_count": 7,
   "metadata": {},
   "outputs": [
    {
     "name": "stdout",
     "output_type": "stream",
     "text": [
      "-10\n",
      "-8\n",
      "-6\n",
      "-4\n",
      "-2\n",
      "0\n",
      "2\n",
      "4\n",
      "6\n",
      "8\n",
      "10\n"
     ]
    }
   ],
   "source": [
    "# b)\n",
    "\n",
    "for i in range(-10, 11, 2):\n",
    "    print(i)"
   ]
  },
  {
   "cell_type": "markdown",
   "metadata": {},
   "source": [
    "### 1. Arithmetic sum (*)\n",
    "Use a for statement to compute the following sums:\n",
    "\n",
    "  a)   sum = 1 + 2 + 3 + ... + 100\n",
    "\n",
    "  b)   sum = 1 + 3 + 5 + ... + 97 + 100"
   ]
  },
  {
   "cell_type": "code",
   "execution_count": 16,
   "metadata": {},
   "outputs": [
    {
     "name": "stdout",
     "output_type": "stream",
     "text": [
      "5050\n"
     ]
    }
   ],
   "source": [
    "sum_calc = 0\n",
    "\n",
    "for i in range(1,101,):\n",
    "    sum_calc += i\n",
    "\n",
    "print(sum_calc)"
   ]
  },
  {
   "cell_type": "code",
   "execution_count": 15,
   "metadata": {},
   "outputs": [
    {
     "name": "stdout",
     "output_type": "stream",
     "text": [
      "2500\n"
     ]
    }
   ],
   "source": [
    "sum_calc = 0\n",
    "\n",
    "for i in range(1,101,2):\n",
    "    sum_calc += i\n",
    "\n",
    "print(sum_calc)"
   ]
  },
  {
   "cell_type": "markdown",
   "metadata": {},
   "source": [
    "###2. Multiplication table (*)\n",
    "Use for statement(s) to:\n",
    "\n",
    "  a)   print out the 6th multiplication table from 0 to 10 (*)\n",
    "\n",
    "  b)   let the user input the table, start and end of the table. (*)\n",
    "\n",
    "  c)   print out a full multiplication table from 0 to 10. (**)"
   ]
  },
  {
   "cell_type": "code",
   "execution_count": 2,
   "metadata": {},
   "outputs": [
    {
     "name": "stdout",
     "output_type": "stream",
     "text": [
      "0 * 6 = 0\n",
      "1 * 6 = 6\n",
      "2 * 6 = 12\n",
      "3 * 6 = 18\n",
      "4 * 6 = 24\n",
      "5 * 6 = 30\n",
      "6 * 6 = 36\n",
      "7 * 6 = 42\n",
      "8 * 6 = 48\n",
      "9 * 6 = 54\n",
      "10 * 6 = 60\n"
     ]
    }
   ],
   "source": [
    "#a\n",
    "\n",
    "for i in range(0,11):\n",
    "    print(f\"{i} * {6} = {i*6}\")"
   ]
  },
  {
   "cell_type": "code",
   "execution_count": 3,
   "metadata": {},
   "outputs": [
    {
     "name": "stdout",
     "output_type": "stream",
     "text": [
      "2 * 7 = 14\n",
      "3 * 7 = 21\n",
      "4 * 7 = 28\n",
      "5 * 7 = 35\n",
      "6 * 7 = 42\n",
      "7 * 7 = 49\n",
      "8 * 7 = 56\n",
      "9 * 7 = 63\n"
     ]
    }
   ],
   "source": [
    "#b\n",
    "\n",
    "table = int(input(\"Which table do you choose?\"))\n",
    "start = int(input(\"Choose the starting point: \"))\n",
    "end = int(input(\"Choose the ending point: \"))\n",
    "\n",
    "\n",
    "for i in range(start, (end+1)):\n",
    "    print(f\"{i} * {table} = {i*table}\")"
   ]
  },
  {
   "cell_type": "code",
   "execution_count": 8,
   "metadata": {},
   "outputs": [
    {
     "name": "stdout",
     "output_type": "stream",
     "text": [
      "0 * 0 = 0\n",
      "0 * 1 = 0\n",
      "0 * 2 = 0\n",
      "0 * 3 = 0\n",
      "0 * 4 = 0\n",
      "0 * 5 = 0\n",
      "0 * 6 = 0\n",
      "0 * 7 = 0\n",
      "0 * 8 = 0\n",
      "0 * 9 = 0\n",
      "0 * 10 = 0\n",
      "1 * 0 = 0\n",
      "1 * 1 = 1\n",
      "1 * 2 = 2\n",
      "1 * 3 = 3\n",
      "1 * 4 = 4\n",
      "1 * 5 = 5\n",
      "1 * 6 = 6\n",
      "1 * 7 = 7\n",
      "1 * 8 = 8\n",
      "1 * 9 = 9\n",
      "1 * 10 = 10\n",
      "2 * 0 = 0\n",
      "2 * 1 = 2\n",
      "2 * 2 = 4\n",
      "2 * 3 = 6\n",
      "2 * 4 = 8\n",
      "2 * 5 = 10\n",
      "2 * 6 = 12\n",
      "2 * 7 = 14\n",
      "2 * 8 = 16\n",
      "2 * 9 = 18\n",
      "2 * 10 = 20\n",
      "3 * 0 = 0\n",
      "3 * 1 = 3\n",
      "3 * 2 = 6\n",
      "3 * 3 = 9\n",
      "3 * 4 = 12\n",
      "3 * 5 = 15\n",
      "3 * 6 = 18\n",
      "3 * 7 = 21\n",
      "3 * 8 = 24\n",
      "3 * 9 = 27\n",
      "3 * 10 = 30\n",
      "4 * 0 = 0\n",
      "4 * 1 = 4\n",
      "4 * 2 = 8\n",
      "4 * 3 = 12\n",
      "4 * 4 = 16\n",
      "4 * 5 = 20\n",
      "4 * 6 = 24\n",
      "4 * 7 = 28\n",
      "4 * 8 = 32\n",
      "4 * 9 = 36\n",
      "4 * 10 = 40\n",
      "5 * 0 = 0\n",
      "5 * 1 = 5\n",
      "5 * 2 = 10\n",
      "5 * 3 = 15\n",
      "5 * 4 = 20\n",
      "5 * 5 = 25\n",
      "5 * 6 = 30\n",
      "5 * 7 = 35\n",
      "5 * 8 = 40\n",
      "5 * 9 = 45\n",
      "5 * 10 = 50\n",
      "6 * 0 = 0\n",
      "6 * 1 = 6\n",
      "6 * 2 = 12\n",
      "6 * 3 = 18\n",
      "6 * 4 = 24\n",
      "6 * 5 = 30\n",
      "6 * 6 = 36\n",
      "6 * 7 = 42\n",
      "6 * 8 = 48\n",
      "6 * 9 = 54\n",
      "6 * 10 = 60\n",
      "7 * 0 = 0\n",
      "7 * 1 = 7\n",
      "7 * 2 = 14\n",
      "7 * 3 = 21\n",
      "7 * 4 = 28\n",
      "7 * 5 = 35\n",
      "7 * 6 = 42\n",
      "7 * 7 = 49\n",
      "7 * 8 = 56\n",
      "7 * 9 = 63\n",
      "7 * 10 = 70\n",
      "8 * 0 = 0\n",
      "8 * 1 = 8\n",
      "8 * 2 = 16\n",
      "8 * 3 = 24\n",
      "8 * 4 = 32\n",
      "8 * 5 = 40\n",
      "8 * 6 = 48\n",
      "8 * 7 = 56\n",
      "8 * 8 = 64\n",
      "8 * 9 = 72\n",
      "8 * 10 = 80\n",
      "9 * 0 = 0\n",
      "9 * 1 = 9\n",
      "9 * 2 = 18\n",
      "9 * 3 = 27\n",
      "9 * 4 = 36\n",
      "9 * 5 = 45\n",
      "9 * 6 = 54\n",
      "9 * 7 = 63\n",
      "9 * 8 = 72\n",
      "9 * 9 = 81\n",
      "9 * 10 = 90\n",
      "10 * 0 = 0\n",
      "10 * 1 = 10\n",
      "10 * 2 = 20\n",
      "10 * 3 = 30\n",
      "10 * 4 = 40\n",
      "10 * 5 = 50\n",
      "10 * 6 = 60\n",
      "10 * 7 = 70\n",
      "10 * 8 = 80\n",
      "10 * 9 = 90\n",
      "10 * 10 = 100\n"
     ]
    }
   ],
   "source": [
    "for i in range(0, 11):\n",
    "    for x in range(0, 11):\n",
    "        print(f\"{i} * {x} = {i*x}\")\n"
   ]
  },
  {
   "cell_type": "markdown",
   "metadata": {},
   "source": [
    "### 3. Faculty (*)\n",
    "Use a for statement to compute \n",
    "n! =  1 * 2 * 3  * ... * (n -1)  * n\n",
    "\n",
    "Let the user input n"
   ]
  },
  {
   "cell_type": "code",
   "execution_count": 16,
   "metadata": {},
   "outputs": [
    {
     "name": "stdout",
     "output_type": "stream",
     "text": [
      "0\n"
     ]
    }
   ],
   "source": [
    "n = int(input(\"Enter n: \"))\n",
    "\n",
    "for i in range(1,n):\n",
    "     n*= i\n",
    "\n",
    "print(n)"
   ]
  },
  {
   "cell_type": "markdown",
   "metadata": {},
   "source": [
    "###4. Pin code cracking (*)\n",
    "Start by creating a random four-digit number. Use for statement to do a brute force approach to figure out a correct guess.\n",
    "\n"
   ]
  },
  {
   "cell_type": "code",
   "execution_count": 131,
   "metadata": {},
   "outputs": [
    {
     "name": "stdout",
     "output_type": "stream",
     "text": [
      "[9, 1, 2, 6]\n",
      "Success! I broke the code in 1729 tries\n"
     ]
    }
   ],
   "source": [
    "import random as rnd\n",
    "\n",
    "pin_code = [rnd.randint(0,9),rnd.randint(0,9),rnd.randint(0,9),rnd.randint(0,9)]\n",
    "print(pin_code)\n",
    "\n",
    "for i in range(100000):\n",
    "    guess = [rnd.randint(0,9),rnd.randint(0,9),rnd.randint(0,9),rnd.randint(0,9)]\n",
    "    if guess == pin_code:\n",
    "        print(f\"Success! I broke the code in {i + 1} tries\")\n",
    "        break"
   ]
  },
  {
   "cell_type": "markdown",
   "metadata": {},
   "source": [
    "### 5. Rice on chessboard (*)\n",
    "In first square of the chessboard there is one grain of rice, in the second square there is two grains, in the third square there is four grains and so on. How many grains are there in the whole chessboard when all squares are filled using this pattern?"
   ]
  },
  {
   "cell_type": "code",
   "execution_count": 164,
   "metadata": {},
   "outputs": [
    {
     "name": "stdout",
     "output_type": "stream",
     "text": [
      "Square 1: 1 grains\n",
      "Square 2: 2 grains\n",
      "Square 3: 4 grains\n",
      "Square 4: 8 grains\n",
      "Square 5: 16 grains\n",
      "Square 6: 32 grains\n",
      "Square 7: 64 grains\n",
      "Square 8: 128 grains\n",
      "Square 9: 256 grains\n",
      "Square 10: 512 grains\n",
      "Square 11: 1024 grains\n",
      "Square 12: 2048 grains\n",
      "Square 13: 4096 grains\n",
      "Square 14: 8192 grains\n",
      "Square 15: 16384 grains\n",
      "Square 16: 32768 grains\n",
      "Square 17: 65536 grains\n",
      "Square 18: 131072 grains\n",
      "Square 19: 262144 grains\n",
      "Square 20: 524288 grains\n",
      "Square 21: 1048576 grains\n",
      "Square 22: 2097152 grains\n",
      "Square 23: 4194304 grains\n",
      "Square 24: 8388608 grains\n",
      "Square 25: 16777216 grains\n",
      "Square 26: 33554432 grains\n",
      "Square 27: 67108864 grains\n",
      "Square 28: 134217728 grains\n",
      "Square 29: 268435456 grains\n",
      "Square 30: 536870912 grains\n",
      "Square 31: 1073741824 grains\n",
      "Square 32: 2147483648 grains\n",
      "Square 33: 4294967296 grains\n",
      "Square 34: 8589934592 grains\n",
      "Square 35: 17179869184 grains\n",
      "Square 36: 34359738368 grains\n",
      "Square 37: 68719476736 grains\n",
      "Square 38: 137438953472 grains\n",
      "Square 39: 274877906944 grains\n",
      "Square 40: 549755813888 grains\n",
      "Square 41: 1099511627776 grains\n",
      "Square 42: 2199023255552 grains\n",
      "Square 43: 4398046511104 grains\n",
      "Square 44: 8796093022208 grains\n",
      "Square 45: 17592186044416 grains\n",
      "Square 46: 35184372088832 grains\n",
      "Square 47: 70368744177664 grains\n",
      "Square 48: 140737488355328 grains\n",
      "Square 49: 281474976710656 grains\n",
      "Square 50: 562949953421312 grains\n",
      "Square 51: 1125899906842624 grains\n",
      "Square 52: 2251799813685248 grains\n",
      "Square 53: 4503599627370496 grains\n",
      "Square 54: 9007199254740992 grains\n",
      "Square 55: 18014398509481984 grains\n",
      "Square 56: 36028797018963968 grains\n",
      "Square 57: 72057594037927936 grains\n",
      "Square 58: 144115188075855872 grains\n",
      "Square 59: 288230376151711744 grains\n",
      "Square 60: 576460752303423488 grains\n",
      "Square 61: 1152921504606846976 grains\n",
      "Square 62: 2305843009213693952 grains\n",
      "Square 63: 4611686018427387904 grains\n",
      "Square 64: 9223372036854775808 grains\n",
      "Square 65: 18446744073709551616 grains\n",
      "Total grains on the chessboard: 36893488147419103232\n"
     ]
    }
   ],
   "source": [
    "grains = 1\n",
    "\n",
    "for i in range(0, 65):  # Loop from 1 to 63 to represent the 64 squares on the chessboard\n",
    "    print(f\"Square {i + 1}: {grains} grains\")\n",
    "    grains *= 2\n",
    "    \n",
    "\n",
    "print(f\"Total grains on the chessboard: {grains}\")\n"
   ]
  }
 ],
 "metadata": {
  "kernelspec": {
   "display_name": "venv",
   "language": "python",
   "name": "python3"
  },
  "language_info": {
   "codemirror_mode": {
    "name": "ipython",
    "version": 3
   },
   "file_extension": ".py",
   "mimetype": "text/x-python",
   "name": "python",
   "nbconvert_exporter": "python",
   "pygments_lexer": "ipython3",
   "version": "3.11.8"
  }
 },
 "nbformat": 4,
 "nbformat_minor": 2
}
