{
 "cells": [
  {
   "cell_type": "markdown",
   "metadata": {},
   "source": [
    "# Exercises - lists\n",
    "### 0. Dice rolls (*)\n",
    "Simulate 10 dice rolls and append the rolls to a list or use list comprehension.\n",
    "\n",
    "  a)   sort the list in ascending order (*)\n",
    "\n",
    "  b)   sort the list in descending order (*)\n",
    "\n",
    "  c)   find the maximum and minimum value in the list (*)"
   ]
  },
  {
   "cell_type": "code",
   "execution_count": 68,
   "metadata": {},
   "outputs": [
    {
     "name": "stdout",
     "output_type": "stream",
     "text": [
      "[1, 1, 2, 2, 3, 3, 4, 4, 5, 6]\n"
     ]
    }
   ],
   "source": [
    "# a)\n",
    "\n",
    "import random as rnd\n",
    "\n",
    "score = []\n",
    "\n",
    "for i in range(1,11):\n",
    "    dice_roll = rnd.randint(1,6)\n",
    "    score.append(dice_roll)\n",
    "\n",
    "score.sort()\n",
    "print(score)"
   ]
  },
  {
   "cell_type": "code",
   "execution_count": 50,
   "metadata": {},
   "outputs": [
    {
     "name": "stdout",
     "output_type": "stream",
     "text": [
      "[6, 5, 5, 5, 4, 4, 3, 2, 1, 1]\n"
     ]
    }
   ],
   "source": [
    "# b)\n",
    "\n",
    "import random as rnd\n",
    "\n",
    "score = []\n",
    "\n",
    "for i in range(1,11):\n",
    "    dice_roll = rnd.randint(1,6)\n",
    "    score.append(dice_roll)\n",
    "\n",
    "score.sort(reverse=True)\n",
    "print(score)\n"
   ]
  },
  {
   "cell_type": "code",
   "execution_count": 65,
   "metadata": {},
   "outputs": [
    {
     "name": "stdout",
     "output_type": "stream",
     "text": [
      "[4, 2, 5, 1, 2, 1, 2, 2, 5, 1]\n",
      "The minimum value is: 1 and the maximum value is: 5\n"
     ]
    }
   ],
   "source": [
    "# c)\n",
    "\n",
    "import random as rnd\n",
    "\n",
    "score = []\n",
    "\n",
    "for i in range(1,11):\n",
    "    dice_roll = rnd.randint(1,6)\n",
    "    score.append(dice_roll)\n",
    "\n",
    "print(score)\n",
    "\n",
    "print(f\"The minimum value is: {min(score)} and the maximum value is: {max(score)}\")"
   ]
  },
  {
   "cell_type": "markdown",
   "metadata": {},
   "source": [
    "### 1. Food menu (*)\n",
    "Create a:\n",
    "\n",
    "  a)   list with the following elements: \"vegetarisk lasagne\", \"spaghetti\", \"fisk\", \"grönsakssoppa\", \"pannkakor\". (*)\n",
    "\n",
    "  b)   list with the weekdays (*)\n",
    "\n",
    "  c)   create a food menu with each day corresponding to each food item and print it out. (*)\n",
    "\n"
   ]
  },
  {
   "cell_type": "code",
   "execution_count": 81,
   "metadata": {},
   "outputs": [
    {
     "name": "stdout",
     "output_type": "stream",
     "text": [
      "This week's menu\n",
      "\n",
      "Mondag - Vegetarisk lasagne\n",
      "Tisdag - Spaghetti\n",
      "Onsdag - Fisk\n",
      "Torsdag - Grönsakssoppa\n",
      "Fredag - Pannkakor\n"
     ]
    }
   ],
   "source": [
    "foods = [\"vegetarisk lasagne\", \"spaghetti\", \"fisk\", \"grönsakssoppa\", \"pannkakor\"]\n",
    "\n",
    "weekdays = [\"mondag\", \"tisdag\", \"onsdag\", \"torsdag\", \"fredag\"]\n",
    "\n",
    "print(\"This week's menu\\n\")\n",
    "for food, weekday in zip(foods, weekdays):\n",
    "    print(f\"{weekday.capitalize()} - {food.capitalize()}\")\n",
    "\n",
    "\n"
   ]
  },
  {
   "cell_type": "markdown",
   "metadata": {},
   "source": [
    "### 2. Squares (*)\n",
    "  a)   Use list comprehension to create a list of squares from -10 to 10 (*)\n",
    "\n",
    "  b)   Plot this list using matplotlib. (*)"
   ]
  },
  {
   "cell_type": "code",
   "execution_count": 84,
   "metadata": {},
   "outputs": [
    {
     "name": "stdout",
     "output_type": "stream",
     "text": [
      "[1, 4, 9, 16]\n"
     ]
    }
   ],
   "source": [
    "squares = []\n",
    "\n",
    "for n in range(1,5):\n",
    "    squares.append(n**2)\n",
    "\n",
    "print(squares)"
   ]
  },
  {
   "cell_type": "code",
   "execution_count": 87,
   "metadata": {},
   "outputs": [
    {
     "data": {
      "text/plain": [
       "[100, 81, 64, 49, 36, 25, 16, 9, 4, 1, 0, 1, 4, 9, 16, 25, 36, 49, 64, 81]"
      ]
     },
     "execution_count": 87,
     "metadata": {},
     "output_type": "execute_result"
    }
   ],
   "source": [
    "# A)\n",
    "\n",
    "squares = [n**2 for n in range(-10,10)]\n",
    "squares"
   ]
  },
  {
   "cell_type": "code",
   "execution_count": 92,
   "metadata": {},
   "outputs": [
    {
     "data": {
      "text/plain": [
       "Text(0.5, 1.0, 'Square from -10 to 10')"
      ]
     },
     "execution_count": 92,
     "metadata": {},
     "output_type": "execute_result"
    },
    {
     "data": {
      "image/png": "[encoded data removed]",
      "text/plain": [
       "<Figure size 640x480 with 1 Axes>"
      ]
     },
     "metadata": {},
     "output_type": "display_data"
    }
   ],
   "source": [
    "# B)\n",
    "\n",
    "import numpy as np\n",
    "import matplotlib.pyplot as plt \n",
    "\n",
    "squares = [n**2 for n in range(-10,10)]\n",
    "\n",
    "plt.plot(squares)\n",
    "plt.title(\"Square from -10 to 10\")\n",
    "\n"
   ]
  },
  {
   "cell_type": "markdown",
   "metadata": {},
   "source": [
    "### 3. Chessboard (**)\n",
    "  a)   Create this list using list comprehension: (*)\n",
    "\n",
    "['A1', 'B1', 'C1', 'D1', 'E1', 'F1', 'G1', 'H1']\n",
    "  b)   Create a 2D list to hold the coordinates in a chessboard. (**)\n",
    "\n"
   ]
  },
  {
   "cell_type": "code",
   "execution_count": null,
   "metadata": {},
   "outputs": [],
   "source": [
    "coordinates = []\n",
    "\n",
    "for letter in 'ABCDEFGH':\n",
    "    for number in '12345678':\n",
    "        coordinates.append(letter + number)\n",
    "\n",
    "chessboard = [[letter + number for number in '12345678'] for letter in 'ABCDEFGH']\n",
    "\n",
    "for row in chessboard:\n",
    "    print(row)"
   ]
  },
  {
   "cell_type": "code",
   "execution_count": 137,
   "metadata": {},
   "outputs": [
    {
     "name": "stdout",
     "output_type": "stream",
     "text": [
      "A1 A2 A3 A4 A5 A6 A7 A8\n",
      "B1 B2 B3 B4 B5 B6 B7 B8\n",
      "C1 C2 C3 C4 C5 C6 C7 C8\n",
      "D1 D2 D3 D4 D5 D6 D7 D8\n",
      "E1 E2 E3 E4 E5 E6 E7 E8\n",
      "F1 F2 F3 F4 F5 F6 F7 F8\n",
      "G1 G2 G3 G4 G5 G6 G7 G8\n",
      "H1 H2 H3 H4 H5 H6 H7 H8\n"
     ]
    }
   ],
   "source": [
    "#new_list = [expression for item in iterable if condition]\n",
    "\n",
    "coordinates = [[(letter + number) for letter in 'ABCDEFGH'] for number in '12345678']\n",
    "chessboard = [[letter + number for number in '12345678'] for letter in 'ABCDEFGH']\n",
    "\n",
    "for row in chessboard:\n",
    "    print(' '.join(row))\n",
    "\n",
    "\n",
    "\n"
   ]
  }
 ],
 "metadata": {
  "kernelspec": {
   "display_name": "venv",
   "language": "python",
   "name": "python3"
  },
  "language_info": {
   "codemirror_mode": {
    "name": "ipython",
    "version": 3
   },
   "file_extension": ".py",
   "mimetype": "text/x-python",
   "name": "python",
   "nbconvert_exporter": "python",
   "pygments_lexer": "ipython3",
   "version": "3.11.8"
  }
 },
 "nbformat": 4,
 "nbformat_minor": 2
}
