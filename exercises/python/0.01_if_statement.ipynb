{
 "cells": [
  {
   "cell_type": "markdown",
   "metadata": {},
   "source": [
    "## Exercise - if-statements \n",
    "\n",
    "0. Check sign (*)\n",
    "Ask the user to input a number and check if this number is positive, negative or zero and print it out."
   ]
  },
  {
   "cell_type": "code",
   "execution_count": 6,
   "metadata": {},
   "outputs": [
    {
     "name": "stdout",
     "output_type": "stream",
     "text": [
      "-2451 is negative\n"
     ]
    }
   ],
   "source": [
    "userNumber = int(input(\"Enter a number: \"))\n",
    "\n",
    "if userNumber > 0:\n",
    "    print(f\"{userNumber} is a positive number\")\n",
    "elif userNumber == 0:\n",
    "    print(f\"{userNumber} is not positive or negative\")\n",
    "else:\n",
    "    print(f\"{userNumber} is negative\")"
   ]
  },
  {
   "cell_type": "markdown",
   "metadata": {},
   "source": [
    "1. Smallest (*)\n",
    "Ask the user to input two numbers and check which one is the smallest and print it out."
   ]
  },
  {
   "cell_type": "code",
   "execution_count": 9,
   "metadata": {},
   "outputs": [
    {
     "name": "stdout",
     "output_type": "stream",
     "text": [
      "4902 is bigger than 1\n"
     ]
    }
   ],
   "source": [
    "number_1 = int(input(\"Enter the first number: \"))\n",
    "number_2 = int(input(\"Enter the second number: \"))\n",
    "\n",
    "if number_1 > number_2:\n",
    "    print(f\"{number_1} is bigger than {number_2}\")\n",
    "elif number_1 == number_2:\n",
    "    print(\"Try again and pick different numbers\")\n",
    "else:\n",
    "    print(f\"{number_2} is bigger than {number_1}\")\n",
    "    \n"
   ]
  },
  {
   "cell_type": "markdown",
   "metadata": {},
   "source": [
    "2. Right angle (*)\n",
    "Ask the user to input three angles and check if the triangle has a right angle. Your code should make sure that all three angles are valid and make up a triangle."
   ]
  }
 ],
 "metadata": {
  "kernelspec": {
   "display_name": "venv",
   "language": "python",
   "name": "python3"
  },
  "language_info": {
   "codemirror_mode": {
    "name": "ipython",
    "version": 3
   },
   "file_extension": ".py",
   "mimetype": "text/x-python",
   "name": "python",
   "nbconvert_exporter": "python",
   "pygments_lexer": "ipython3",
   "version": "3.11.8"
  }
 },
 "nbformat": 4,
 "nbformat_minor": 2
}
