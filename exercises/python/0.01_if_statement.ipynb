{
 "cells": [
  {
   "cell_type": "markdown",
   "metadata": {},
   "source": [
    "## Exercise - if-statements \n",
    "\n",
    "0. Check sign (*)\n",
    "Ask the user to input a number and check if this number is positive, negative or zero and print it out."
   ]
  },
  {
   "cell_type": "code",
   "execution_count": 1,
   "metadata": {},
   "outputs": [
    {
     "name": "stdout",
     "output_type": "stream",
     "text": [
      "90 is a positive number\n"
     ]
    }
   ],
   "source": [
    "userNumber = int(input(\"Enter a number: \"))\n",
    "\n",
    "if userNumber > 0:\n",
    "    print(f\"{userNumber} is a positive number\")\n",
    "elif userNumber == 0:\n",
    "    print(f\"{userNumber} is not positive or negative\")\n",
    "else:\n",
    "    print(f\"{userNumber} is negative\")"
   ]
  },
  {
   "cell_type": "markdown",
   "metadata": {},
   "source": [
    "1. Smallest (*)\n",
    "Ask the user to input two numbers and check which one is the smallest and print it out."
   ]
  },
  {
   "cell_type": "code",
   "execution_count": 4,
   "metadata": {},
   "outputs": [
    {
     "name": "stdout",
     "output_type": "stream",
     "text": [
      "2 is bigger than 1\n"
     ]
    }
   ],
   "source": [
    "number_1 = int(input(\"Enter the first number: \"))\n",
    "number_2 = int(input(\"Enter the second number: \"))\n",
    "\n",
    "if number_1 > number_2:\n",
    "    print(f\"{number_1} is bigger than {number_2}\")\n",
    "elif number_1 == number_2:\n",
    "    print(\"Try again and pick different numbers\")\n",
    "else:\n",
    "    print(f\"{number_2} is bigger than {number_1}\")\n",
    "    \n"
   ]
  },
  {
   "cell_type": "markdown",
   "metadata": {},
   "source": [
    "2. Right angle (*)\n",
    "Ask the user to input three angles and check if the triangle has a right angle. Your code should make sure that all three angles are valid and make up a triangle."
   ]
  },
  {
   "cell_type": "code",
   "execution_count": 5,
   "metadata": {},
   "outputs": [
    {
     "name": "stdout",
     "output_type": "stream",
     "text": [
      "The angles you entered do not make a valid triangle\n"
     ]
    }
   ],
   "source": [
    "try:\n",
    "    angle_1 = int(input(\"Enter the first angle: \"))\n",
    "    angle_2 = int(input(\"Enter the second angle: \"))\n",
    "    angle_3 = int(input(\"Enter the third angle: \"))\n",
    "\n",
    "except ValueError:\n",
    "    print(\"Please enter numeric values for the angles\")\n",
    "    exit()\n",
    "\n",
    "if angle_1 == 90 or angle_2 == 90 or angle_3 == 90:\n",
    "    triangleType = \"Right\"\n",
    "else:\n",
    "    triangleType = \"Acute or Obtuse\"\n",
    "\n",
    "if angle_1 + angle_2 + angle_3 == 180:\n",
    "    print(f\"The angles you entered form a {triangleType} Triangle\")\n",
    "else:\n",
    "    print(\"The angles you entered do not form a valid triangle\")\n",
    "\n"
   ]
  },
  {
   "cell_type": "code",
   "execution_count": 15,
   "metadata": {},
   "outputs": [
    {
     "name": "stdout",
     "output_type": "stream",
     "text": [
      "The recommended dosage is 1/2 pill per day.\n"
     ]
    }
   ],
   "source": [
    "try:\n",
    "    userAge = int(input(\"What's the age of the consumer?\"))\n",
    "    userWeight = int(input(\"How much does the userWeight?\"))\n",
    "\n",
    "\n",
    "    if userAge > 12:\n",
    "        number_pills = \"1 to 2 pills\"\n",
    "        if userWeight > 40:\n",
    "            print(f\"The recommended dosage is {number_pills} per day.\")\n",
    "    else:\n",
    "        if userWeight >= 26:\n",
    "            number_pills = \"1/2 to 1 pill\"\n",
    "            print(f\"The recommended dosage is {number_pills} per day.\")\n",
    "        else:\n",
    "            number_pills = \"1/2 pill\"\n",
    "            print(f\"The recommended dosage is {number_pills} per day.\")\n",
    "\n",
    "except ValueError:\n",
    "    print(\"Please enter a valid number.\")"
   ]
  },
  {
   "cell_type": "markdown",
   "metadata": {},
   "source": [
    "###4. Divisible . Let the user input a number. Check if the number is\n",
    "\n",
    "    -even or odd\n",
    "    -is divisible by 5\n",
    "    -is divisble by 5 and odd"
   ]
  },
  {
   "cell_type": "code",
   "execution_count": 17,
   "metadata": {},
   "outputs": [
    {
     "name": "stdout",
     "output_type": "stream",
     "text": [
      "The is even and it is divisible by 5\n"
     ]
    }
   ],
   "source": [
    "userNumber = int(input(\"Enter a number: \"))\n",
    "\n",
    "if userNumber % 2 == 0:\n",
    "    number_type = \"even\"\n",
    "else:\n",
    "    number_type = \"odd\"\n",
    "\n",
    "if userNumber % 5 == 0:\n",
    "    divisible5 = \"is\"\n",
    "else:\n",
    "    divisible5 = \"is not\"\n",
    "\n",
    "print(f\"The is {number_type} and it {divisible5} divisible by 5\")"
   ]
  },
  {
   "cell_type": "markdown",
   "metadata": {},
   "source": [
    "### 5. Luggage size (*)\n",
    "The maximum allowed luggage size for boarding an airplane is:\n",
    "\n",
    "weight: 8kg\n",
    "dimensions: 55x40x23cm (length x width x height)\n",
    "Let the user input weight, length, width and height of the luggage. The program should check if the luggage is allowed or not."
   ]
  },
  {
   "cell_type": "code",
   "execution_count": 5,
   "metadata": {},
   "outputs": [
    {
     "name": "stdout",
     "output_type": "stream",
     "text": [
      "The weight or dimensions of your luggage can not be 0 or negative\n"
     ]
    }
   ],
   "source": [
    "wheight = 8\n",
    "lenght = 55\n",
    "width = 40\n",
    "height = 23\n",
    "\n",
    "\n",
    "try:\n",
    "    user_wheight = float(input(\"Enter the weight of your luggage: \"))\n",
    "    user_length = float(input(\"Enter the lenght of your luggage: \"))\n",
    "    user_width = float(input(\"Enter the width of your luggage: \"))\n",
    "    user_height = float(input(\"Enter the height of your luggage: \"))\n",
    "    \n",
    "    if user_wheight <= 0 or user_height <= 0 or user_length <= 0 or user_width <= 0:\n",
    "        print(\"The weight or dimensions of your luggage can not be 0 or negative\")\n",
    "    else:\n",
    "        if user_wheight > wheight or user_height < height or user_length < lenght or user_width < width:\n",
    "            print(\"Your luggage is not allowed for boarding\")\n",
    "        else:\n",
    "            print(\"Thank you! Your luggage is allowed for boarding\")\n",
    "except ValueError:\n",
    "    print(\"The weight or dimensions of the bag must a valid numeric value.\")"
   ]
  }
 ],
 "metadata": {
  "kernelspec": {
   "display_name": "venv",
   "language": "python",
   "name": "python3"
  },
  "language_info": {
   "codemirror_mode": {
    "name": "ipython",
    "version": 3
   },
   "file_extension": ".py",
   "mimetype": "text/x-python",
   "name": "python",
   "nbconvert_exporter": "python",
   "pygments_lexer": "ipython3",
   "version": "3.11.8"
  }
 },
 "nbformat": 4,
 "nbformat_minor": 2
}
