{
 "cells": [
  {
   "cell_type": "code",
   "execution_count": null,
   "metadata": {},
   "outputs": [],
   "source": [
    "##___0. Pythagorean theorem (*)\n",
    "\n",
    "#0. Pythagorean theorem (*)\n",
    "#a)   A right angled triangle has the catheti: a = 3 and b = 4 length units. \n",
    "#Compute the hypothenuse of the triangle. (*)\n",
    "\n",
    "#For this exercise I'm using the Pythagorean Theorem: a2 + b2 = c2\n",
    "\n",
    "catheti_a = 3\n",
    "catheti_b = 4\n",
    "\n",
    "square_a = catheti_a **2\n",
    "square_b = catheti_b **2\n",
    "\n",
    "x = square_a + square_b\n",
    "\n",
    "hypothenuse_c = x **.5\n",
    "\n",
    "#print(x)\n",
    "#print(hypothenuse_c)\n",
    "\n",
    "\n",
    "#------------------------------------------------------------\n",
    "\n",
    "\n",
    "# b)  A right angled triangle has hypothenuse c = 7.0 and a cathetus a = 5.0 length units. \n",
    "#Compute the other cathetus and round to one decimal. (*)\n",
    "\n",
    "\n",
    "hyp_a = 7.0\n",
    "cath_a = 5.0\n",
    "\n",
    "x = (hyp_a**2) - (cath_a**2)\n",
    "cath_b = round(x**.5,1)\n",
    "#print(cath_b)\n",
    "\n",
    "\n",
    "##___2. Classification accuracy (*)\n",
    "\n",
    "#A machine learning algorithm has been trained to predict whether or not it would rain the next day. \n",
    "#Out of 365 predictions, it got 300 correct, compute the accuracy of this model.\n",
    "\n",
    "total_predictions = 365\n",
    "correct_predictions = 300\n",
    "accuracy = correct_predictions / total_predictions \n",
    "#print(f\"The accurary of the model is {accuracy:.4f} or {accuracy * 100:.2f}%\")\n",
    "\n",
    "\n",
    "#3. Classification accuracy (*)\n",
    "\n",
    "TP = 2\n",
    "FP = 2\n",
    "FN = 11\n",
    "TN = 985\n",
    "\n",
    "accuracy = (TP + TN) / (TP+TN+FP+FN)\n",
    "\n",
    "#print(f\"The accuracy of this model is {accuracy:.4f} or {accuracy*100:.2f}%\")\n",
    "\n",
    "\n",
    "##___4.Line\n",
    "#Compute the slope 'k' and the constant term 'm' of this line using the points A(4,4) and B(0,1)    \n",
    "\n",
    "x1, y1 = 4, 4\n",
    "x2, y2 = 0, 1\n",
    "\n",
    "slope_k = (y2-y1)/(x2-x1)\n",
    "\n",
    "constant_m = y1-slope_k*x1\n",
    "    \n",
    "print(f\"The equation of the line is: y = {slope_k}x + {constant_m}\""
   ]
  },
  {
   "cell_type": "markdown",
   "metadata": {},
   "source": [
    "### 5. Euclidean distance(*)\n",
    "\n",
    "- The Euclideam distance between the points P1 and P2 is the length of a line between them. \n",
    "- Let P1 : (3,5) and P2 : (-2,4) and compute the distance between them.\n"
   ]
  },
  {
   "cell_type": "code",
   "execution_count": 6,
   "metadata": {},
   "outputs": [
    {
     "name": "stdout",
     "output_type": "stream",
     "text": [
      "The euclidian distance between p1 and p2 is  5.10\n"
     ]
    }
   ],
   "source": [
    "import math\n",
    "\n",
    "def euclidean_distance(point_1, point_2):\n",
    "    x1, y1 = point_1\n",
    "    x2, y2 = point_2\n",
    "\n",
    "    distance = math.sqrt((x2-x1)**2 + (y2-y1)**2)\n",
    "    return distance\n",
    "\n",
    "p1 = (3,5)\n",
    "p2 = (-2,4)\n",
    "\n",
    "distance = euclidean_distance(p1,p2)\n",
    "print(f\"The euclidian distance between p1 and p2 is {distance: .2f}\")"
   ]
  }
 ],
 "metadata": {
  "kernelspec": {
   "display_name": "venv",
   "language": "python",
   "name": "python3"
  },
  "language_info": {
   "codemirror_mode": {
    "name": "ipython",
    "version": 3
   },
   "file_extension": ".py",
   "mimetype": "text/x-python",
   "name": "python",
   "nbconvert_exporter": "python",
   "pygments_lexer": "ipython3",
   "version": "3.11.8"
  }
 },
 "nbformat": 4,
 "nbformat_minor": 2
}
