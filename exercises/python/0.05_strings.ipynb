{
 "cells": [
  {
   "cell_type": "markdown",
   "metadata": {},
   "source": [
    "# Exercises - Strings"
   ]
  },
  {
   "cell_type": "markdown",
   "metadata": {},
   "source": [
    "### 0. Counting letters (*)\n",
    "Let the user input a word:\n",
    "\n",
    "  a)   print out the number of letters in the word. (*)\n",
    "\n",
    "  b)   print out the number of uppercase and lowercase letters of the word (*)"
   ]
  },
  {
   "cell_type": "code",
   "execution_count": 8,
   "metadata": {},
   "outputs": [
    {
     "name": "stdout",
     "output_type": "stream",
     "text": [
      "The word Abacaxi has 7 letters.\n",
      "It contains 1 uppercases and 6 lowercases.\n"
     ]
    }
   ],
   "source": [
    "user_word = input(\"Pick a word of your choice: \")\n",
    "u_count = 0\n",
    "l_count = 0\n",
    "# \n",
    "print(f\"The word {user_word} has {len(user_word)} letters.\")\n",
    "\n",
    "for letter in user_word:\n",
    "    if letter == letter.upper():\n",
    "        u_count+=1\n",
    "\n",
    "    if letter == letter.lower():\n",
    "        l_count+=1\n",
    "\n",
    "print(f\"It contains {u_count} uppercases and {l_count} lowercases.\")\n"
   ]
  }
 ],
 "metadata": {
  "kernelspec": {
   "display_name": "venv",
   "language": "python",
   "name": "python3"
  },
  "language_info": {
   "codemirror_mode": {
    "name": "ipython",
    "version": 3
   },
   "file_extension": ".py",
   "mimetype": "text/x-python",
   "name": "python",
   "nbconvert_exporter": "python",
   "pygments_lexer": "ipython3",
   "version": "3.11.8"
  }
 },
 "nbformat": 4,
 "nbformat_minor": 2
}
