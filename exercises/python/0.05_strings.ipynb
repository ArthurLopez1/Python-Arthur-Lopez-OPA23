{
 "cells": [
  {
   "cell_type": "markdown",
   "metadata": {},
   "source": [
    "# Exercises - Strings"
   ]
  },
  {
   "cell_type": "markdown",
   "metadata": {},
   "source": [
    "### 0. Counting letters (*)\n",
    "Let the user input a word:\n",
    "\n",
    "  a)   print out the number of letters in the word. (*)\n",
    "\n",
    "  b)   print out the number of uppercase and lowercase letters of the word (*)"
   ]
  },
  {
   "cell_type": "code",
   "execution_count": 8,
   "metadata": {},
   "outputs": [
    {
     "name": "stdout",
     "output_type": "stream",
     "text": [
      "The word Abacaxi has 7 letters.\n",
      "It contains 1 uppercases and 6 lowercases.\n"
     ]
    }
   ],
   "source": [
    "user_word = input(\"Pick a word of your choice: \")\n",
    "u_count = 0\n",
    "l_count = 0\n",
    "# \n",
    "print(f\"The word {user_word} has {len(user_word)} letters.\")\n",
    "\n",
    "for letter in user_word:\n",
    "    if letter == letter.upper():\n",
    "        u_count+=1\n",
    "\n",
    "    if letter == letter.lower():\n",
    "        l_count+=1\n",
    "\n",
    "print(f\"It contains {u_count} uppercases and {l_count} lowercases.\")\n"
   ]
  },
  {
   "cell_type": "markdown",
   "metadata": {},
   "source": [
    "### 2. Palindrome (*)"
   ]
  },
  {
   "cell_type": "code",
   "execution_count": 7,
   "metadata": {},
   "outputs": [
    {
     "name": "stdout",
     "output_type": "stream",
     "text": [
      "That word is not a palindrome\n"
     ]
    }
   ],
   "source": [
    "user_word = input(\"Type a word. I'll check if it's a palindrome\")\n",
    "rev_word = user_word[::-1]\n",
    "\n",
    "if user_word == rev_word:\n",
    "    print(\"That word is a palindrome\")\n",
    "\n",
    "else:\n",
    "    print(\"That word is not a palindrome\")\n"
   ]
  },
  {
   "cell_type": "markdown",
   "metadata": {},
   "source": [
    "### Counting vowels"
   ]
  },
  {
   "cell_type": "code",
   "execution_count": 11,
   "metadata": {},
   "outputs": [
    {
     "name": "stdout",
     "output_type": "stream",
     "text": [
      "The number of vows is 20\n"
     ]
    }
   ],
   "source": [
    "sentence = \"Pure mathematics is, in its way, the poetry of logical ideas\"\n",
    "vows = \"aeiou\"\n",
    "count = 0\n",
    "\n",
    "for letter in sentence:\n",
    "    for v in vows:\n",
    "        if v == letter:\n",
    "            count+=1\n",
    "\n",
    "print(f\"The number of vows is {count}\")\n"
   ]
  },
  {
   "cell_type": "markdown",
   "metadata": {},
   "source": [
    "### 4. Encryption (**)\n",
    "Let the user input a word and:\n",
    "\n",
    "  a)   encrypt the message by replacing each letter with the next letter. If the letter is in the end of the alphabet, use the first letter instead.\n",
    "\n",
    "e.g. in Swedish: \"höst\" \n",
    " \"iatu\""
   ]
  }
 ],
 "metadata": {
  "kernelspec": {
   "display_name": "venv",
   "language": "python",
   "name": "python3"
  },
  "language_info": {
   "codemirror_mode": {
    "name": "ipython",
    "version": 3
   },
   "file_extension": ".py",
   "mimetype": "text/x-python",
   "name": "python",
   "nbconvert_exporter": "python",
   "pygments_lexer": "ipython3",
   "version": "3.11.8"
  }
 },
 "nbformat": 4,
 "nbformat_minor": 2
}
