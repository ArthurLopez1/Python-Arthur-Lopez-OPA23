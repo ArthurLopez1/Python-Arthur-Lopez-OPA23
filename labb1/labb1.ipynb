{
 "cells": [
  {
   "cell_type": "markdown",
   "metadata": {},
   "source": [
    "# Labb 1 - simplified machine learning algorithm\n",
    "# Pichus and Pikachus\n",
    "\n",
    "opening \"pichu.txt\" for dimensions of pichus"
   ]
  },
  {
   "cell_type": "code",
   "execution_count": null,
   "metadata": {},
   "outputs": [],
   "source": [
    "# Opening file for \"pichu.txt\"\n",
    "\n",
    "with open (\"pichu.txt\", \"r\") as file:\n",
    "    content = file.read()\n",
    "\n",
    "print(content)"
   ]
  },
  {
   "cell_type": "markdown",
   "metadata": {},
   "source": [
    "splitting the content string into a list, \n",
    "removing the first and last lines and storing the resulting list"
   ]
  },
  {
   "cell_type": "code",
   "execution_count": null,
   "metadata": {},
   "outputs": [],
   "source": [
    "\n",
    "content_split = content.split(\"\\n\")\n",
    "content_list = content_split[1:-1]\n",
    "content_list"
   ]
  },
  {
   "cell_type": "markdown",
   "metadata": {},
   "source": [
    "Adding to an empty list, pichu_list"
   ]
  },
  {
   "cell_type": "code",
   "execution_count": null,
   "metadata": {},
   "outputs": [],
   "source": [
    "pichu_list = []\n",
    "\n",
    "# Loop through each point in the content list and evaluate it, then add to pichu_list\n",
    "for point in content_list:\n",
    "    \n",
    "    pichu_list.append(eval(point))\n",
    "\n",
    "print(pichu_list) "
   ]
  },
  {
   "cell_type": "markdown",
   "metadata": {},
   "source": [
    "NumPy Array"
   ]
  },
  {
   "cell_type": "code",
   "execution_count": null,
   "metadata": {},
   "outputs": [],
   "source": [
    "import numpy as np\n",
    "\n",
    "data = np.array(pichu_list)\n",
    "data.shape"
   ]
  },
  {
   "cell_type": "markdown",
   "metadata": {},
   "source": [
    "Plotting the data using the first 2 columns "
   ]
  },
  {
   "cell_type": "code",
   "execution_count": null,
   "metadata": {},
   "outputs": [],
   "source": [
    "import matplotlib.pyplot as plt\n",
    "\n",
    "plt.plot(data[:,0],data[:,1], \"o\")\n",
    "\n",
    "\n"
   ]
  },
  {
   "cell_type": "markdown",
   "metadata": {},
   "source": [
    "#### Repeating the same process for \"Pikachu\""
   ]
  },
  {
   "cell_type": "code",
   "execution_count": null,
   "metadata": {},
   "outputs": [],
   "source": [
    "with open (\"pikachu.txt\", \"r\") as file:\n",
    "    content = file.read()\n",
    "\n",
    "print(content)"
   ]
  },
  {
   "cell_type": "code",
   "execution_count": null,
   "metadata": {},
   "outputs": [],
   "source": [
    "content_split = content.split(\"\\n\")\n",
    "content_list = content_split[1:-1]\n",
    "content_list"
   ]
  },
  {
   "cell_type": "code",
   "execution_count": null,
   "metadata": {},
   "outputs": [],
   "source": [
    "pikachu_list = []\n",
    "\n",
    "for point in content_list:\n",
    "    \n",
    "    pikachu_list.append(eval(point))\n",
    "\n",
    "print(pikachu_list) "
   ]
  },
  {
   "cell_type": "code",
   "execution_count": null,
   "metadata": {},
   "outputs": [],
   "source": [
    "data_b = np.array(pikachu_list)\n",
    "data_b.shape"
   ]
  },
  {
   "cell_type": "code",
   "execution_count": null,
   "metadata": {},
   "outputs": [],
   "source": [
    "plt.plot(data_b[:,0],data_b[:,1], \"o\")"
   ]
  },
  {
   "cell_type": "markdown",
   "metadata": {},
   "source": [
    "Concatenate two NumPy arrays, data and data_b + creating label"
   ]
  },
  {
   "cell_type": "code",
   "execution_count": null,
   "metadata": {},
   "outputs": [],
   "source": [
    "data = np.concatenate([data, data_b])\n",
    "\n",
    "# label array with zeros for the first 50 elements and ones for the next 50 elements\n",
    "\n",
    "label = np.zeros([100,1])\n",
    "label[50:]+=1\n",
    "\n",
    "# displaying value for testing\n",
    "label[49]"
   ]
  },
  {
   "cell_type": "code",
   "execution_count": null,
   "metadata": {},
   "outputs": [],
   "source": [
    "# Concatenate the 'data' array and 'label' array along the columns (axis=1)\n",
    "\n",
    "data = np.concatenate([data, label],axis=1)"
   ]
  },
  {
   "cell_type": "markdown",
   "metadata": {},
   "source": [
    "#### Matplotlip"
   ]
  },
  {
   "cell_type": "code",
   "execution_count": null,
   "metadata": {},
   "outputs": [],
   "source": [
    "import matplotlib.pyplot as plt\n",
    "from matplotlib.lines import Line2D\n",
    "\n",
    "# colors based on a condition\n",
    "colors = np.where(data[:, 2] > 0.5, '#DBAA1E', '#E06B8B')\n",
    "\n",
    "# scatter plot with specified colors\n",
    "pichus_pikachus = plt.scatter(x=data[:,0], y=data[:,1], c=colors, s=40)\n",
    "\n",
    "# titles and axis label\n",
    "pichus_pikachus = plt.title(\"Pichus and Pikachus\")\n",
    "plt.ylabel('width', loc='bottom')\n",
    "plt.xlabel('height', loc='left')\n",
    "\n",
    "# legend handles for Pichu and Pikachu\n",
    "legend_handles = [Line2D([0], [0], marker='o', color='w', label='Pichu', markerfacecolor='#E06B8B', markersize=10),\n",
    "                  Line2D([0], [0], marker='o', color='w', label='Pikachu', markerfacecolor='#DBAA1E', markersize=10)]\n",
    "\n",
    "# legend to the plot\n",
    "plt.legend(handles=legend_handles, loc='lower right')\n",
    "\n",
    "pichus_pikachus "
   ]
  },
  {
   "cell_type": "markdown",
   "metadata": {},
   "source": [
    "#### test points"
   ]
  },
  {
   "cell_type": "code",
   "execution_count": null,
   "metadata": {},
   "outputs": [],
   "source": [
    "# reading test_points.txt\" file\n",
    "\n",
    "with open('test_points.txt', 'r') as file:\n",
    "    test_points = file.read()\n",
    "\n",
    "test_points = eval(f\"[{test_points}]\")\n",
    "\n",
    "print(test_points)"
   ]
  },
  {
   "cell_type": "markdown",
   "metadata": {},
   "source": [
    "Calculating the eucledian distance of each point"
   ]
  },
  {
   "cell_type": "code",
   "execution_count": null,
   "metadata": {},
   "outputs": [],
   "source": [
    "distances_array_1 = np.sqrt((data[:,0] - test_points[0][0])**2 + (data[:,1] - test_points[0][1])**2)\n",
    "# finding the index of the minimum distances for each test point\n",
    "min_distance_1 = np.argmin(distances_array_1)\n",
    "\n",
    "distances_array_2 = np.sqrt((data[:,0] - test_points[1][0])**2 + (data[:,1] - test_points[1][1])**2)\n",
    "min_distance_2 = np.argmin(distances_array_2)\n",
    "\n",
    "distances_array_3 = np.sqrt((data[:,0] - test_points[2][0])**2 + (data[:,1] - test_points[2][1])**2)\n",
    "min_distance_3 = np.argmin(distances_array_3)\n",
    "\n",
    "distances_array_4 = np.sqrt((data[:,0] - test_points[3][0])**2 + (data[:,1] - test_points[3][1])**2)\n",
    "min_distance_4 = np.argmin(distances_array_4)\n",
    "\n",
    "print(min_distance_1)\n",
    "print(min_distance_2)\n",
    "print(min_distance_3)\n",
    "print(min_distance_4)"
   ]
  },
  {
   "cell_type": "code",
   "execution_count": null,
   "metadata": {},
   "outputs": [],
   "source": [
    "# Checking if each of the test points belongs to pichu or pikachu\n",
    "\n",
    "min_distances = [min_distance_1, min_distance_2, min_distance_3, min_distance_4]\n",
    "\n",
    "for i, min_distance in enumerate(min_distances):\n",
    "    test_point = test_points[i]\n",
    "    if data[:, 2][min_distance]:\n",
    "        print(f\"Sample with (width, height): {test_point} classified as Pikachu\")\n",
    "    else:\n",
    "        print(f\"Sample with (width, height): {test_point} classified as Pichu\")\n",
    "\n",
    "        \n"
   ]
  },
  {
   "cell_type": "markdown",
   "metadata": {},
   "source": [
    "#### Classification based on user input"
   ]
  },
  {
   "cell_type": "code",
   "execution_count": null,
   "metadata": {},
   "outputs": [],
   "source": [
    "try:\n",
    "    width_input = int(input(\"What's the width of the pokemon?\"))\n",
    "    height_input = int(input(\"What's the height of the pokemon?\"))\n",
    "except ValueError:\n",
    "    print(\"Only numeric values are valid for width and height\")\n",
    "\n",
    "distance_input = np.sqrt((data[:,0] - width_input)**2 + (data[:,1] - height_input)**2)\n",
    "min_distance_input = np.argmin(distance_input)\n",
    "\n",
    "if data[:, 2][min_distance_input]:\n",
    "    print(f\"Sample with (width, height): ({width_input}, {height_input}) classified as Pikachu\")\n",
    "else:\n",
    "    print(f\"Sample with (width, height): ({width_input}, {height_input}) classified as Pichu\")"
   ]
  }
 ],
 "metadata": {
  "kernelspec": {
   "display_name": "venv",
   "language": "python",
   "name": "python3"
  },
  "language_info": {
   "codemirror_mode": {
    "name": "ipython",
    "version": 3
   },
   "file_extension": ".py",
   "mimetype": "text/x-python",
   "name": "python",
   "nbconvert_exporter": "python",
   "pygments_lexer": "ipython3",
   "version": "3.11.8"
  }
 },
 "nbformat": 4,
 "nbformat_minor": 2
}
