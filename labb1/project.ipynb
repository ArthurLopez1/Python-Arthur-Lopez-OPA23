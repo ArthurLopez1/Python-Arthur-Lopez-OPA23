{
 "cells": [
  {
   "cell_type": "markdown",
   "metadata": {},
   "source": [
    "## to solve this I need:\n",
    "- file handling\n",
    "- string (methods, ...)\n",
    "- eucledean distance"
   ]
  }
 ],
 "metadata": {
  "language_info": {
   "name": "python"
  }
 },
 "nbformat": 4,
 "nbformat_minor": 2
}
